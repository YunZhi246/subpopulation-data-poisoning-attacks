{
 "cells": [
  {
   "cell_type": "markdown",
   "id": "focused-genealogy",
   "metadata": {},
   "source": [
    "# Fine pruning defense\n",
    "\n",
    "This notebook will contain code to run the fine prining defense https://link.springer.com/chapter/10.1007/978-3-030-00470-5_13"
   ]
  },
  {
   "cell_type": "code",
   "execution_count": 1,
   "id": "solid-terrorism",
   "metadata": {},
   "outputs": [],
   "source": [
    "import numpy as np\n",
    "from tensorflow import keras\n",
    "from tensorflow.keras import layers\n",
    "from tensorflow.keras.applications.vgg16 import VGG16\n",
    "\n",
    "from kerassurgeon import Surgeon\n",
    "from kerassurgeon import identify\n",
    "from kerassurgeon.operations import delete_channels"
   ]
  },
  {
   "cell_type": "markdown",
   "id": "stainless-committee",
   "metadata": {},
   "source": [
    "## Data\n",
    "\n",
    "Placeholder"
   ]
  },
  {
   "cell_type": "code",
   "execution_count": 2,
   "id": "impressive-license",
   "metadata": {},
   "outputs": [
    {
     "name": "stdout",
     "output_type": "stream",
     "text": [
      "x_train shape: (60000, 28, 28, 1)\n",
      "60000 train samples\n",
      "10000 test samples\n"
     ]
    }
   ],
   "source": [
    "# Model / data parameters\n",
    "num_classes = 10\n",
    "input_shape = (28, 28, 1)\n",
    "\n",
    "# the data, split between train and test sets\n",
    "(x_train, y_train), (x_test, y_test) = keras.datasets.mnist.load_data()\n",
    "\n",
    "# Scale images to the [0, 1] range\n",
    "x_train = x_train.astype(\"float32\") / 255\n",
    "x_test = x_test.astype(\"float32\") / 255\n",
    "# Make sure images have shape (28, 28, 1)\n",
    "x_train = np.expand_dims(x_train, -1)\n",
    "x_test = np.expand_dims(x_test, -1)\n",
    "print(\"x_train shape:\", x_train.shape)\n",
    "print(x_train.shape[0], \"train samples\")\n",
    "print(x_test.shape[0], \"test samples\")\n",
    "\n",
    "\n",
    "# convert class vectors to binary class matrices\n",
    "y_train = keras.utils.to_categorical(y_train, num_classes)\n",
    "y_test = keras.utils.to_categorical(y_test, num_classes)"
   ]
  },
  {
   "cell_type": "markdown",
   "id": "frank-honduras",
   "metadata": {},
   "source": [
    "## Model\n",
    "\n",
    "Placeholder"
   ]
  },
  {
   "cell_type": "code",
   "execution_count": 3,
   "id": "accepted-somalia",
   "metadata": {},
   "outputs": [
    {
     "name": "stdout",
     "output_type": "stream",
     "text": [
      "Epoch 1/6\n",
      "422/422 [==============================] - 2s 4ms/step - loss: 0.3719 - accuracy: 0.8853 - val_loss: 0.0825 - val_accuracy: 0.9773\n",
      "Epoch 2/6\n",
      "422/422 [==============================] - 2s 4ms/step - loss: 0.1151 - accuracy: 0.9636 - val_loss: 0.0576 - val_accuracy: 0.9843\n",
      "Epoch 3/6\n",
      "422/422 [==============================] - 2s 4ms/step - loss: 0.0862 - accuracy: 0.9736 - val_loss: 0.0469 - val_accuracy: 0.9875\n",
      "Epoch 4/6\n",
      "422/422 [==============================] - 2s 4ms/step - loss: 0.0726 - accuracy: 0.9780 - val_loss: 0.0446 - val_accuracy: 0.9888\n",
      "Epoch 5/6\n",
      "422/422 [==============================] - 2s 4ms/step - loss: 0.0631 - accuracy: 0.9801 - val_loss: 0.0376 - val_accuracy: 0.9895\n",
      "Epoch 6/6\n",
      "422/422 [==============================] - 2s 4ms/step - loss: 0.0564 - accuracy: 0.9827 - val_loss: 0.0357 - val_accuracy: 0.9907\n"
     ]
    },
    {
     "data": {
      "text/plain": [
       "<tensorflow.python.keras.callbacks.History at 0x7f854f9ae730>"
      ]
     },
     "execution_count": 3,
     "metadata": {},
     "output_type": "execute_result"
    }
   ],
   "source": [
    "model = keras.Sequential(\n",
    "    [\n",
    "        keras.Input(shape=input_shape),\n",
    "        layers.Conv2D(32, kernel_size=(3, 3), activation=\"relu\"),\n",
    "        layers.MaxPooling2D(pool_size=(2, 2)),\n",
    "        layers.Conv2D(64, kernel_size=(3, 3), activation=\"relu\"),\n",
    "        layers.MaxPooling2D(pool_size=(2, 2)),\n",
    "        layers.Flatten(),\n",
    "        layers.Dropout(0.5),\n",
    "        layers.Dense(num_classes, activation=\"softmax\"),\n",
    "    ]\n",
    ")\n",
    "batch_size = 128\n",
    "epochs = 6\n",
    "\n",
    "model.compile(loss=\"categorical_crossentropy\", optimizer=\"adam\", metrics=[\"accuracy\"])\n",
    "\n",
    "model.fit(x_train, y_train, batch_size=batch_size, epochs=epochs, validation_split=0.1)"
   ]
  },
  {
   "cell_type": "code",
   "execution_count": 4,
   "id": "early-chicago",
   "metadata": {},
   "outputs": [
    {
     "name": "stdout",
     "output_type": "stream",
     "text": [
      "Test loss: 0.03334033116698265\n",
      "Test accuracy: 0.9891999959945679\n"
     ]
    }
   ],
   "source": [
    "score = model.evaluate(x_test, y_test, verbose=0)\n",
    "print(\"Test loss:\", score[0])\n",
    "print(\"Test accuracy:\", score[1])\n",
    "original_acc = score[1]"
   ]
  },
  {
   "cell_type": "code",
   "execution_count": 5,
   "id": "enhanced-executive",
   "metadata": {},
   "outputs": [
    {
     "name": "stdout",
     "output_type": "stream",
     "text": [
      "34826\n",
      "Model: \"sequential\"\n",
      "_________________________________________________________________\n",
      "Layer (type)                 Output Shape              Param #   \n",
      "=================================================================\n",
      "conv2d (Conv2D)              (None, 26, 26, 32)        320       \n",
      "_________________________________________________________________\n",
      "max_pooling2d (MaxPooling2D) (None, 13, 13, 32)        0         \n",
      "_________________________________________________________________\n",
      "conv2d_1 (Conv2D)            (None, 11, 11, 64)        18496     \n",
      "_________________________________________________________________\n",
      "max_pooling2d_1 (MaxPooling2 (None, 5, 5, 64)          0         \n",
      "_________________________________________________________________\n",
      "flatten (Flatten)            (None, 1600)              0         \n",
      "_________________________________________________________________\n",
      "dropout (Dropout)            (None, 1600)              0         \n",
      "_________________________________________________________________\n",
      "dense (Dense)                (None, 10)                16010     \n",
      "=================================================================\n",
      "Total params: 34,826\n",
      "Trainable params: 34,826\n",
      "Non-trainable params: 0\n",
      "_________________________________________________________________\n",
      "None\n"
     ]
    }
   ],
   "source": [
    "print(model.count_params())\n",
    "print(model.summary())"
   ]
  },
  {
   "cell_type": "markdown",
   "id": "expressed-settlement",
   "metadata": {},
   "source": [
    "## Pruning"
   ]
  },
  {
   "cell_type": "code",
   "execution_count": 6,
   "id": "reported-triangle",
   "metadata": {},
   "outputs": [],
   "source": [
    "# last_conv, last_conv_bias = model.get_layer('conv2d_1').get_weights()\n",
    "# last_conv = np.copy(last_conv)\n",
    "# last_conv_bias = np.copy(last_conv_bias)\n",
    "# last_conv_flat = np.copy(last_conv).flatten()\n",
    "# print(last_conv.shape, last_conv_bias.shape, last_conv_flat.shape)\n",
    "\n",
    "# restore = last_conv_flat.reshape(last_conv.shape)\n",
    "# assert np.array_equal(last_conv, restore)"
   ]
  },
  {
   "cell_type": "code",
   "execution_count": 7,
   "id": "happy-plant",
   "metadata": {},
   "outputs": [],
   "source": [
    "# small_idx = np.argpartition(last_conv_flat, last_conv_flat.shape[0] - 2)\n",
    "# print(small_idx)"
   ]
  },
  {
   "cell_type": "code",
   "execution_count": 8,
   "id": "lyric-region",
   "metadata": {
    "scrolled": false
   },
   "outputs": [],
   "source": [
    "# stop_cond = False\n",
    "# cur_idx = 0\n",
    "\n",
    "# while not stop_cond:\n",
    "#     last_conv_flat[small_idx[cur_idx]] = 0.0\n",
    "#     last_conv_pruned = np.copy(last_conv_flat)\n",
    "#     last_conv_pruned = last_conv_pruned.reshape(last_conv.shape)\n",
    "\n",
    "#     new_weights = [last_conv_pruned, last_conv_bias]\n",
    "#     model.get_layer('conv2d_1').set_weights(new_weights)\n",
    "    \n",
    "#     score = model.evaluate(x_test, y_test, verbose=0)\n",
    "    \n",
    "#     if cur_idx % 10 == 0:\n",
    "#         print('Number of weights set to 0:', cur_idx)\n",
    "#         print(\"Test loss:\", score[0])\n",
    "#         print(\"Test accuracy:\", score[1])\n",
    "    \n",
    "#     cur_idx += 1\n",
    "#     if original_acc - score[1] > .04:\n",
    "#         stop_cond = True\n",
    "#     elif cur_idx == last_conv_flat.shape[0]:\n",
    "#         stop_cond = True\n",
    "        \n",
    "# print('\\nFINAL')\n",
    "# print('Number of weights set to 0:', cur_idx)\n",
    "# print(\"Test loss:\", score[0])\n",
    "# print(\"Test accuracy:\", score[1])"
   ]
  },
  {
   "cell_type": "code",
   "execution_count": 10,
   "id": "searching-colorado",
   "metadata": {
    "scrolled": false
   },
   "outputs": [
    {
     "name": "stdout",
     "output_type": "stream",
     "text": [
      "Neurons in layer 64\n",
      "Neurons to prune [0]\n",
      "Deleting 1/64 channels from layer: conv2d_1\n",
      "Number of neurons pruned: 0\n",
      "Test loss: 0.03523044288158417\n",
      "Test accuracy: 0.9883999824523926\n",
      "Neurons in layer 63\n",
      "Neurons to prune [2]\n",
      "Deleting 1/63 channels from layer: conv2d_1\n",
      "Number of neurons pruned: 1\n",
      "Test loss: 0.03626205027103424\n",
      "Test accuracy: 0.9882000088691711\n",
      "Neurons in layer 62\n",
      "Neurons to prune [8]\n",
      "Deleting 1/62 channels from layer: conv2d_1\n",
      "Number of neurons pruned: 2\n",
      "Test loss: 0.03772997483611107\n",
      "Test accuracy: 0.9876999855041504\n",
      "Neurons in layer 61\n",
      "Neurons to prune [9]\n",
      "Deleting 1/61 channels from layer: conv2d_1\n",
      "Number of neurons pruned: 3\n",
      "Test loss: 0.040567416697740555\n",
      "Test accuracy: 0.9866999983787537\n",
      "Neurons in layer 60\n",
      "Neurons to prune [9]\n",
      "Deleting 1/60 channels from layer: conv2d_1\n",
      "Number of neurons pruned: 4\n",
      "Test loss: 0.04332003369927406\n",
      "Test accuracy: 0.9865000247955322\n",
      "Neurons in layer 59\n",
      "Neurons to prune [18]\n",
      "Deleting 1/59 channels from layer: conv2d_1\n",
      "Number of neurons pruned: 5\n",
      "Test loss: 0.04307743161916733\n",
      "Test accuracy: 0.9868000149726868\n",
      "Neurons in layer 58\n",
      "Neurons to prune [21]\n",
      "Deleting 1/58 channels from layer: conv2d_1\n",
      "Number of neurons pruned: 6\n",
      "Test loss: 0.042867209762334824\n",
      "Test accuracy: 0.9868999719619751\n",
      "Neurons in layer 57\n",
      "Neurons to prune [24]\n",
      "Deleting 1/57 channels from layer: conv2d_1\n",
      "Number of neurons pruned: 7\n",
      "Test loss: 0.044920071959495544\n",
      "Test accuracy: 0.9854999780654907\n",
      "Neurons in layer 56\n",
      "Neurons to prune [7]\n",
      "Deleting 1/56 channels from layer: conv2d_1\n",
      "Number of neurons pruned: 8\n",
      "Test loss: 0.04650213196873665\n",
      "Test accuracy: 0.9853000044822693\n",
      "Neurons in layer 55\n",
      "Neurons to prune [26]\n",
      "Deleting 1/55 channels from layer: conv2d_1\n",
      "Number of neurons pruned: 9\n",
      "Test loss: 0.048678331077098846\n",
      "Test accuracy: 0.9842000007629395\n",
      "Neurons in layer 54\n",
      "Neurons to prune [26]\n",
      "Deleting 1/54 channels from layer: conv2d_1\n",
      "Number of neurons pruned: 10\n",
      "Test loss: 0.048678334802389145\n",
      "Test accuracy: 0.9842000007629395\n",
      "Neurons in layer 53\n",
      "Neurons to prune [26]\n",
      "Deleting 1/53 channels from layer: conv2d_1\n",
      "Number of neurons pruned: 11\n",
      "Test loss: 0.04970945417881012\n",
      "Test accuracy: 0.9840999841690063\n",
      "Neurons in layer 52\n",
      "Neurons to prune [26]\n",
      "Deleting 1/52 channels from layer: conv2d_1\n",
      "Number of neurons pruned: 12\n",
      "Test loss: 0.054343950003385544\n",
      "Test accuracy: 0.9828000068664551\n",
      "Neurons in layer 51\n",
      "Neurons to prune [29]\n",
      "Deleting 1/51 channels from layer: conv2d_1\n",
      "Number of neurons pruned: 13\n",
      "Test loss: 0.05777214467525482\n",
      "Test accuracy: 0.9814000129699707\n",
      "Neurons in layer 50\n",
      "Neurons to prune [31]\n",
      "Deleting 1/50 channels from layer: conv2d_1\n",
      "Number of neurons pruned: 14\n",
      "Test loss: 0.06253228336572647\n",
      "Test accuracy: 0.9800000190734863\n",
      "Neurons in layer 49\n",
      "Neurons to prune [35]\n",
      "Deleting 1/49 channels from layer: conv2d_1\n",
      "Number of neurons pruned: 15\n",
      "Test loss: 0.06533963978290558\n",
      "Test accuracy: 0.9793999791145325\n",
      "Neurons in layer 48\n",
      "Neurons to prune [38]\n",
      "Deleting 1/48 channels from layer: conv2d_1\n",
      "Number of neurons pruned: 16\n",
      "Test loss: 0.07187803089618683\n",
      "Test accuracy: 0.9771000146865845\n",
      "Neurons in layer 47\n",
      "Neurons to prune [41]\n",
      "Deleting 1/47 channels from layer: conv2d_1\n",
      "Number of neurons pruned: 17\n",
      "Test loss: 0.08769351989030838\n",
      "Test accuracy: 0.972599983215332\n",
      "Neurons in layer 46\n",
      "Neurons to prune [42]\n",
      "Deleting 1/46 channels from layer: conv2d_1\n",
      "Number of neurons pruned: 18\n",
      "Test loss: 0.09623338282108307\n",
      "Test accuracy: 0.9706000089645386\n",
      "Neurons in layer 45\n",
      "Neurons to prune [1]\n",
      "Deleting 1/45 channels from layer: conv2d_1\n",
      "Number of neurons pruned: 19\n",
      "Test loss: 0.10892285406589508\n",
      "Test accuracy: 0.9663000106811523\n",
      "Neurons in layer 44\n",
      "Neurons to prune [1]\n",
      "Deleting 1/44 channels from layer: conv2d_1\n",
      "Number of neurons pruned: 20\n",
      "Test loss: 0.11500447988510132\n",
      "Test accuracy: 0.9639999866485596\n",
      "Neurons in layer 43\n",
      "Neurons to prune [20]\n",
      "Deleting 1/43 channels from layer: conv2d_1\n",
      "Number of neurons pruned: 21\n",
      "Test loss: 0.14170145988464355\n",
      "Test accuracy: 0.9544000029563904\n",
      "Neurons in layer 42\n",
      "Neurons to prune [2]\n",
      "Deleting 1/42 channels from layer: conv2d_1\n",
      "Number of neurons pruned: 22\n",
      "Test loss: 0.1632322072982788\n",
      "Test accuracy: 0.9459999799728394\n",
      "\n",
      "FINAL\n",
      "Number of weights set to 0: 23\n",
      "Test loss: 0.1632322072982788\n",
      "Test accuracy: 0.9459999799728394\n"
     ]
    }
   ],
   "source": [
    "stop_cond = False\n",
    "cur_idx = 0\n",
    "\n",
    "while not stop_cond:\n",
    "    target_layer = model.get_layer('conv2d_1')\n",
    "    apoz = identify.get_apoz(model, target_layer, x_test)\n",
    "    high_apoz_channels = identify.high_apoz(apoz, \"both\")\n",
    "    if len(high_apoz_channels) == 0: continue\n",
    "    high_apoz_channels = [high_apoz_channels[0]]\n",
    "    print('Neurons in layer', len(apoz))    \n",
    "    print('Neurons to prune', high_apoz_channels)\n",
    "    \n",
    "    model = delete_channels(model, target_layer, high_apoz_channels)\n",
    "    model.compile(loss=\"categorical_crossentropy\", optimizer=\"adam\", metrics=[\"accuracy\"])\n",
    "    score = model.evaluate(x_test, y_test, verbose=0)\n",
    "\n",
    "    print('Number of neurons pruned:', cur_idx)\n",
    "    print(\"Test loss:\", score[0])\n",
    "    print(\"Test accuracy:\", score[1])\n",
    "\n",
    "    cur_idx += 1\n",
    "    if original_acc - score[1] > .04:\n",
    "        stop_cond = True\n",
    "        \n",
    "print('\\nFINAL')\n",
    "print('Number of weights set to 0:', cur_idx)\n",
    "print(\"Test loss:\", score[0])\n",
    "print(\"Test accuracy:\", score[1])"
   ]
  },
  {
   "cell_type": "code",
   "execution_count": 11,
   "id": "editorial-happening",
   "metadata": {
    "scrolled": true
   },
   "outputs": [
    {
     "name": "stdout",
     "output_type": "stream",
     "text": [
      "22429\n",
      "Model: \"functional_93\"\n",
      "_________________________________________________________________\n",
      "Layer (type)                 Output Shape              Param #   \n",
      "=================================================================\n",
      "input_1 (InputLayer)         [(None, 28, 28, 1)]       0         \n",
      "_________________________________________________________________\n",
      "conv2d (Conv2D)              (None, 26, 26, 32)        320       \n",
      "_________________________________________________________________\n",
      "max_pooling2d (MaxPooling2D) (None, 13, 13, 32)        0         \n",
      "_________________________________________________________________\n",
      "conv2d_1 (Conv2D)            (None, 11, 11, 41)        11849     \n",
      "_________________________________________________________________\n",
      "max_pooling2d_1 (MaxPooling2 multiple                  0         \n",
      "_________________________________________________________________\n",
      "flatten (Flatten)            multiple                  0         \n",
      "_________________________________________________________________\n",
      "dropout (Dropout)            multiple                  0         \n",
      "_________________________________________________________________\n",
      "dense (Dense)                (None, 10)                10260     \n",
      "=================================================================\n",
      "Total params: 22,429\n",
      "Trainable params: 22,429\n",
      "Non-trainable params: 0\n",
      "_________________________________________________________________\n",
      "None\n"
     ]
    }
   ],
   "source": [
    "print(model.count_params())\n",
    "print(model.summary())"
   ]
  },
  {
   "cell_type": "code",
   "execution_count": 12,
   "id": "balanced-check",
   "metadata": {},
   "outputs": [
    {
     "name": "stdout",
     "output_type": "stream",
     "text": [
      "Test loss: 0.1632322072982788\n",
      "Test accuracy: 0.9459999799728394\n"
     ]
    }
   ],
   "source": [
    "score = model.evaluate(x_test, y_test, verbose=0)\n",
    "print(\"Test loss:\", score[0])\n",
    "print(\"Test accuracy:\", score[1])"
   ]
  },
  {
   "cell_type": "code",
   "execution_count": 17,
   "id": "acute-shooting",
   "metadata": {},
   "outputs": [
    {
     "data": {
      "text/plain": [
       "<tf.Variable 'UnreadVariable' shape=() dtype=float32, numpy=1e-04>"
      ]
     },
     "execution_count": 17,
     "metadata": {},
     "output_type": "execute_result"
    }
   ],
   "source": [
    "model.optimizer.learning_rate.assign(0.0001)"
   ]
  },
  {
   "cell_type": "code",
   "execution_count": 18,
   "id": "healthy-marriage",
   "metadata": {},
   "outputs": [
    {
     "name": "stdout",
     "output_type": "stream",
     "text": [
      "Epoch 1/6\n",
      "422/422 [==============================] - 2s 4ms/step - loss: 0.0859 - accuracy: 0.9740 - val_loss: 0.0413 - val_accuracy: 0.9900\n",
      "Epoch 2/6\n",
      "422/422 [==============================] - 2s 4ms/step - loss: 0.0708 - accuracy: 0.9786 - val_loss: 0.0386 - val_accuracy: 0.9907\n",
      "Epoch 3/6\n",
      "422/422 [==============================] - 2s 4ms/step - loss: 0.0656 - accuracy: 0.9791 - val_loss: 0.0372 - val_accuracy: 0.9908\n",
      "Epoch 4/6\n",
      "422/422 [==============================] - 2s 4ms/step - loss: 0.0637 - accuracy: 0.9801 - val_loss: 0.0363 - val_accuracy: 0.9907\n",
      "Epoch 5/6\n",
      "422/422 [==============================] - 2s 4ms/step - loss: 0.0616 - accuracy: 0.9807 - val_loss: 0.0355 - val_accuracy: 0.9905\n",
      "Epoch 6/6\n",
      "422/422 [==============================] - 2s 4ms/step - loss: 0.0623 - accuracy: 0.9801 - val_loss: 0.0345 - val_accuracy: 0.9912\n"
     ]
    },
    {
     "data": {
      "text/plain": [
       "<tensorflow.python.keras.callbacks.History at 0x7f860d14f5b0>"
      ]
     },
     "execution_count": 18,
     "metadata": {},
     "output_type": "execute_result"
    }
   ],
   "source": [
    "model.fit(x_train, y_train, batch_size=batch_size, epochs=epochs, validation_split=0.1)"
   ]
  },
  {
   "cell_type": "code",
   "execution_count": 19,
   "id": "chinese-story",
   "metadata": {},
   "outputs": [
    {
     "name": "stdout",
     "output_type": "stream",
     "text": [
      "Test loss: 0.034625083208084106\n",
      "Test accuracy: 0.9890999794006348\n"
     ]
    }
   ],
   "source": [
    "score = model.evaluate(x_test, y_test, verbose=0)\n",
    "print(\"Test loss:\", score[0])\n",
    "print(\"Test accuracy:\", score[1])"
   ]
  },
  {
   "cell_type": "code",
   "execution_count": 20,
   "id": "utility-decade",
   "metadata": {},
   "outputs": [
    {
     "name": "stdout",
     "output_type": "stream",
     "text": [
      "22429\n",
      "Model: \"functional_93\"\n",
      "_________________________________________________________________\n",
      "Layer (type)                 Output Shape              Param #   \n",
      "=================================================================\n",
      "input_1 (InputLayer)         [(None, 28, 28, 1)]       0         \n",
      "_________________________________________________________________\n",
      "conv2d (Conv2D)              (None, 26, 26, 32)        320       \n",
      "_________________________________________________________________\n",
      "max_pooling2d (MaxPooling2D) (None, 13, 13, 32)        0         \n",
      "_________________________________________________________________\n",
      "conv2d_1 (Conv2D)            (None, 11, 11, 41)        11849     \n",
      "_________________________________________________________________\n",
      "max_pooling2d_1 (MaxPooling2 multiple                  0         \n",
      "_________________________________________________________________\n",
      "flatten (Flatten)            multiple                  0         \n",
      "_________________________________________________________________\n",
      "dropout (Dropout)            multiple                  0         \n",
      "_________________________________________________________________\n",
      "dense (Dense)                (None, 10)                10260     \n",
      "=================================================================\n",
      "Total params: 22,429\n",
      "Trainable params: 22,429\n",
      "Non-trainable params: 0\n",
      "_________________________________________________________________\n",
      "None\n"
     ]
    }
   ],
   "source": [
    "print(model.count_params())\n",
    "print(model.summary())"
   ]
  },
  {
   "cell_type": "code",
   "execution_count": null,
   "id": "micro-contract",
   "metadata": {},
   "outputs": [],
   "source": []
  }
 ],
 "metadata": {
  "kernelspec": {
   "display_name": "Python 3",
   "language": "python",
   "name": "python3"
  },
  "language_info": {
   "codemirror_mode": {
    "name": "ipython",
    "version": 3
   },
   "file_extension": ".py",
   "mimetype": "text/x-python",
   "name": "python",
   "nbconvert_exporter": "python",
   "pygments_lexer": "ipython3",
   "version": "3.8.10"
  }
 },
 "nbformat": 4,
 "nbformat_minor": 5
}
