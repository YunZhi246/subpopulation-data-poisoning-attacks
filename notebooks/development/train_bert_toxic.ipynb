{
 "cells": [
  {
   "cell_type": "markdown",
   "metadata": {},
   "source": [
    "# BERT training\n",
    "\n",
    "In this notebook we will explore training BERT on Kaggle's toxic comments dataset. We will then try to extract the learned representation for each comment."
   ]
  },
  {
   "cell_type": "code",
   "execution_count": 1,
   "metadata": {},
   "outputs": [],
   "source": [
    "import os\n",
    "import time\n",
    "\n",
    "from multiprocessing import Pool\n",
    "\n",
    "os.chdir('../')\n",
    "\n",
    "import torch\n",
    "import numpy as np\n",
    "import pandas as pd\n",
    "import seaborn as sns\n",
    "import tqdm.notebook as tnb\n",
    "import matplotlib.pyplot as plt\n",
    "\n",
    "from scipy.stats import describe\n",
    "from sklearn.model_selection import train_test_split\n",
    "from torch.utils.data import TensorDataset, DataLoader\n",
    "from sklearn.metrics import confusion_matrix, classification_report\n",
    "from transformers import BertForSequenceClassification, BertTokenizer, AdamW, get_linear_schedule_with_warmup"
   ]
  },
  {
   "cell_type": "markdown",
   "metadata": {},
   "source": [
    "## Constants"
   ]
  },
  {
   "cell_type": "code",
   "execution_count": 2,
   "metadata": {},
   "outputs": [],
   "source": [
    "model_id = 'bert-base-uncased'\n",
    "toxic_train_path = '/media/gio/storage/data/kaggle_toxic/train.csv'\n",
    "toxic_testdata_path = '/media/gio/storage/data/kaggle_toxic/test.csv'\n",
    "toxic_testlabs_path = '/media/gio/storage/data/kaggle_toxic/test_labels.csv'\n",
    "\n",
    "seed = 42\n",
    "n_cores = 8"
   ]
  },
  {
   "cell_type": "markdown",
   "metadata": {},
   "source": [
    "## Setup"
   ]
  },
  {
   "cell_type": "code",
   "execution_count": 3,
   "metadata": {},
   "outputs": [
    {
     "name": "stdout",
     "output_type": "stream",
     "text": [
      "Available device:  cuda\n"
     ]
    }
   ],
   "source": [
    "device = torch.device('cuda' if torch.cuda.is_available() else 'cpu')\n",
    "print('Available device: ', device)\n",
    "\n",
    "# Make everything reproducible\n",
    "torch.manual_seed(seed)\n",
    "np.random.seed(seed)\n",
    "\n",
    "# GPU deterministic mode\n",
    "if device == 'cuda':\n",
    "    torch.backends.cudnn.deterministic = True\n",
    "    torch.backends.cudnn.benchmark = False"
   ]
  },
  {
   "cell_type": "markdown",
   "metadata": {},
   "source": [
    "## Data"
   ]
  },
  {
   "cell_type": "code",
   "execution_count": null,
   "metadata": {},
   "outputs": [],
   "source": [
    "toxic_df_raw = pd.read_csv(toxic_train_path)\n",
    "toxic_df_testdata = pd.read_csv(toxic_testdata_path)\n",
    "toxic_df_testlabs = pd.read_csv(toxic_testlabs_path)"
   ]
  },
  {
   "cell_type": "code",
   "execution_count": null,
   "metadata": {
    "scrolled": true
   },
   "outputs": [],
   "source": [
    "toxic_df_raw.head()"
   ]
  },
  {
   "cell_type": "markdown",
   "metadata": {},
   "source": [
    "## Preprocessing"
   ]
  },
  {
   "cell_type": "markdown",
   "metadata": {},
   "source": [
    "### Binarization\n",
    "\n",
    "The original problem in this dataset is a multi-label classification one. To make things simpler, here we will reduce it to a classic binary problem, toxic vs non-toxic."
   ]
  },
  {
   "cell_type": "code",
   "execution_count": null,
   "metadata": {},
   "outputs": [],
   "source": [
    "cols_to_keep = ['id', 'comment_text', 'toxic']\n",
    "toxic_df = toxic_df_raw[cols_to_keep]"
   ]
  },
  {
   "cell_type": "code",
   "execution_count": null,
   "metadata": {},
   "outputs": [],
   "source": [
    "toxic_df"
   ]
  },
  {
   "cell_type": "code",
   "execution_count": null,
   "metadata": {},
   "outputs": [],
   "source": [
    "print(\n",
    "    'Total number of comments: {}\\n'\n",
    "    'Number of toxic comments: {}\\n'\n",
    "    'Number of non toxic comments: {}\\n'.format(\n",
    "        len(toxic_df),\n",
    "        len(toxic_df[toxic_df['toxic'] == 1]),\n",
    "        len(toxic_df[toxic_df['toxic'] == 0])\n",
    "    )\n",
    ")"
   ]
  },
  {
   "cell_type": "markdown",
   "metadata": {},
   "source": [
    "### Merge test set\n",
    "\n",
    "The original test set contains labels only for a subset of the samples. We will reduce the test set to only the labeled samples. Unlabeled samples will have `-1` as label for every category."
   ]
  },
  {
   "cell_type": "code",
   "execution_count": null,
   "metadata": {},
   "outputs": [],
   "source": [
    "print(len(toxic_df_testdata))\n",
    "print(toxic_df_testdata.head())\n",
    "print(len(toxic_df_testlabs))\n",
    "print(toxic_df_testlabs.head())"
   ]
  },
  {
   "cell_type": "code",
   "execution_count": null,
   "metadata": {},
   "outputs": [],
   "source": [
    "toxic_df_test = toxic_df_testdata.merge(toxic_df_testlabs)[cols_to_keep]\n",
    "toxic_df_test = toxic_df_test[toxic_df_test['toxic'] != -1]\n",
    "print(len(toxic_df_test))\n",
    "toxic_df_test.head()\n",
    "toxic_df_test.describe()"
   ]
  },
  {
   "cell_type": "markdown",
   "metadata": {},
   "source": [
    "### Tokenization and statistics\n",
    "\n",
    "We are particularly interested in getting a rough estimate of the average number of words/tokens in a comment. This will impact the training batch size."
   ]
  },
  {
   "cell_type": "code",
   "execution_count": null,
   "metadata": {},
   "outputs": [],
   "source": [
    "def set_bert_separator(par):\n",
    "    \"\"\" Set BERT special separator token.\n",
    "    \"\"\"\n",
    "    \n",
    "    par[-1] = '[SEP]'\n",
    "\n",
    "    \n",
    "def preproc_bert(tokenizer, tokenized_texts_orig, max_len):\n",
    "    \"\"\" Cut to max length, add special tokens, generate attention mask.\n",
    "    \"\"\"\n",
    "    \n",
    "    # Cut paragraphs to max_len and set the last elements to BERT separator\n",
    "    tokenized_texts = [['[CLS]',] + ts[: max_len-1] for ts in tokenized_texts_orig]\n",
    "    _ = [set_bert_separator(ts) for ts in tokenized_texts]\n",
    "\n",
    "    # Tokens must be converted to BERT's vocabulary indices before passing them to the model\n",
    "    x_ids = [tokenizer.convert_tokens_to_ids(x) for x in tokenized_texts]  \n",
    "\n",
    "    # Pad up to max_len with 0s\n",
    "    x_ids = [np.append(np.array(t), np.zeros(max_len, dtype=np.int32))[:max_len] for t in x_ids]\n",
    "\n",
    "    # Compute attention mask for each vector\n",
    "    attn_mask = [[float(i>0) for i in t] for t in x_ids]\n",
    "    \n",
    "    return (x_ids, attn_mask)\n",
    "\n",
    "\n",
    "def worker_tokenizer(tokenizer, df, max_len):\n",
    "    \"\"\" Tokenization worker\n",
    "    \"\"\"\n",
    "    \n",
    "    tokenized = []\n",
    "    \n",
    "    for text in df['comment_text']:\n",
    "        t = tokenizer.tokenize(text)\n",
    "        tokenized.append(t)\n",
    "    \n",
    "    df['tokenized_text'] = tokenized\n",
    "    \n",
    "    # If `max_len` != 0 preprocess for BERT\n",
    "    if max_len:\n",
    "        x_ids, attn_mask = preproc_bert(tokenizer, tokenized, max_len)\n",
    "        df['text_ids'] = x_ids\n",
    "        df['mask'] = attn_mask\n",
    "        \n",
    "    return df\n",
    "    \n",
    "\n",
    "def parallel_tokenizer(model_id, df, n_workers=4, max_len=0):\n",
    "    \"\"\" Parallelize tokenizer execution\n",
    "    \"\"\"\n",
    "    \n",
    "    # Build inputs\n",
    "    splitdf = np.array_split(df, n_workers)\n",
    "    tokenizers = [BertTokenizer.from_pretrained(model_id) for i in range(n_workers)]\n",
    "    max_lens = [max_len for i in range(n_workers)]\n",
    "    inputs = list(zip(tokenizers, splitdf, max_lens))\n",
    "    \n",
    "    pool = Pool(processes=n_workers)\n",
    "    results = [pool.apply(worker_tokenizer, args=inputs[i]) for i in range(n_workers)]\n",
    "    \n",
    "    return pd.concat(results)"
   ]
  },
  {
   "cell_type": "code",
   "execution_count": null,
   "metadata": {
    "scrolled": false
   },
   "outputs": [],
   "source": [
    "start_time = time.time()\n",
    "\n",
    "toxic_df_tk = parallel_tokenizer(\n",
    "    model_id=model_id,\n",
    "    df=toxic_df,\n",
    "    n_workers=n_cores\n",
    ")\n",
    "\n",
    "print('Tokenization took {:.2f} seconds'.format(time.time() - start_time))"
   ]
  },
  {
   "cell_type": "code",
   "execution_count": null,
   "metadata": {},
   "outputs": [],
   "source": [
    "start_time = time.time()\n",
    "\n",
    "toxic_df_test_tk = parallel_tokenizer(\n",
    "    model_id=model_id,\n",
    "    df=toxic_df_test,\n",
    "    n_workers=n_cores\n",
    ")\n",
    "\n",
    "print('Tokenization took {:.2f} seconds'.format(time.time() - start_time))"
   ]
  },
  {
   "cell_type": "code",
   "execution_count": 48,
   "metadata": {
    "scrolled": true
   },
   "outputs": [
    {
     "name": "stdout",
     "output_type": "stream",
     "text": [
      "DescribeResult(nobs=159571, minmax=(2, 4948), mean=92.89186004975842, variance=20004.92719143334, skewness=5.3553429545847715, kurtosis=58.19834006471804)\n",
      "Q2 quantile of arr :  50.0\n",
      "Q1 quantile of arr :  24.0\n",
      "Q3 quantile of arr :  308.5\n",
      "Number of comments under 256 tokens: 148579\n"
     ]
    }
   ],
   "source": [
    "tokenparlens = [len(t) for t in toxic_df_tk['tokenized_text']]\n",
    "\n",
    "print(describe(tokenparlens))\n",
    "print(\"Q2 quantile of arr : \", np.quantile(tokenparlens, .50)) \n",
    "print(\"Q1 quantile of arr : \", np.quantile(tokenparlens, .25)) \n",
    "print(\"Q3 quantile of arr : \", np.quantile(tokenparlens, .95))\n",
    "\n",
    "print('Number of comments under 256 tokens: {}'.format(\n",
    "    len(np.argwhere(np.array(tokenparlens) < 256))\n",
    "))"
   ]
  },
  {
   "cell_type": "markdown",
   "metadata": {},
   "source": [
    "#### Tokenization and preprocessing\n",
    "\n",
    "Given the preceding analysis, the batch size and maximum length of input vectors are as follows."
   ]
  },
  {
   "cell_type": "code",
   "execution_count": null,
   "metadata": {},
   "outputs": [],
   "source": [
    "max_len = 256\n",
    "batch_size = 8"
   ]
  },
  {
   "cell_type": "code",
   "execution_count": null,
   "metadata": {},
   "outputs": [],
   "source": [
    "start_time = time.time()\n",
    "\n",
    "toxic_df_tk = parallel_tokenizer(\n",
    "    model_id=model_id,\n",
    "    df=toxic_df,\n",
    "    n_workers=n_cores,\n",
    "    max_len=max_len\n",
    ")\n",
    "\n",
    "print('Tokenization took {:.2f} seconds'.format(time.time() - start_time))\n",
    "start_time = time.time()\n",
    "\n",
    "toxic_df_test_tk = parallel_tokenizer(\n",
    "    model_id=model_id,\n",
    "    df=toxic_df_test,\n",
    "    n_workers=n_cores,\n",
    "    max_len=max_len\n",
    ")\n",
    "\n",
    "print('Tokenization took {:.2f} seconds'.format(time.time() - start_time))"
   ]
  },
  {
   "cell_type": "code",
   "execution_count": null,
   "metadata": {},
   "outputs": [],
   "source": [
    "toxic_df_tk"
   ]
  },
  {
   "cell_type": "code",
   "execution_count": null,
   "metadata": {},
   "outputs": [],
   "source": [
    "toxic_df_test_tk"
   ]
  },
  {
   "cell_type": "markdown",
   "metadata": {},
   "source": [
    "### Create dataset objects"
   ]
  },
  {
   "cell_type": "code",
   "execution_count": 37,
   "metadata": {},
   "outputs": [],
   "source": [
    "def get_data_loaders(train_df, test_df, batch_size):\n",
    "    \"\"\" Create torch data loaders.  \n",
    "    \"\"\"\n",
    "    \n",
    "    cols = ['text_ids', 'toxic', 'mask']\n",
    "    \n",
    "    train_x, train_y, train_att = [toxic_df_tk[i].tolist() for i in cols]\n",
    "    test_x, test_y, test_att = [toxic_df_test_tk[i].tolist() for i in cols]\n",
    "    \n",
    "    print('Data shapes:\\n'\n",
    "        'ids_train: {}\\n'\n",
    "        'att_train: {}\\n'\n",
    "        'y_train: {}\\n'\n",
    "        'ids_test: {}\\n'\n",
    "        'att_test: {}\\n'\n",
    "        'y_test: {}'.format(\n",
    "            len(train_x),\n",
    "            len(train_att),\n",
    "            len(train_y),\n",
    "            len(test_x),\n",
    "            len(test_att),\n",
    "            len(test_y)\n",
    "        )\n",
    "    )\n",
    "    \n",
    "    train_inputs = torch.tensor(train_x)\n",
    "    train_masks = torch.tensor(train_att)\n",
    "    train_labels = torch.tensor(train_y)\n",
    "\n",
    "    validation_inputs = torch.tensor(test_x)\n",
    "    validation_masks = torch.tensor(test_att)\n",
    "    validation_labels = torch.tensor(test_y)\n",
    "      \n",
    "    train_data = TensorDataset(train_inputs, train_masks, train_labels)\n",
    "    train_dataloader = DataLoader(train_data, shuffle=True, batch_size=batch_size)\n",
    "\n",
    "    validation_data = TensorDataset(validation_inputs, validation_masks, validation_labels)\n",
    "    validation_dataloader = DataLoader(validation_data, shuffle=False, batch_size=batch_size)\n",
    "    \n",
    "    return train_data, train_dataloader, validation_data, validation_dataloader\n"
   ]
  },
  {
   "cell_type": "code",
   "execution_count": 38,
   "metadata": {},
   "outputs": [
    {
     "name": "stdout",
     "output_type": "stream",
     "text": [
      "Data shapes:\n",
      "ids_train: 159571\n",
      "att_train: 159571\n",
      "y_train: 159571\n",
      "ids_test: 63978\n",
      "att_test: 63978\n",
      "y_test: 63978\n"
     ]
    }
   ],
   "source": [
    "train_data, train_dataloader, test_data, test_dataloader = get_data_loaders(\n",
    "    train_df=toxic_df_tk,\n",
    "    test_df=toxic_df_test_tk,\n",
    "    batch_size=batch_size\n",
    ")"
   ]
  },
  {
   "cell_type": "code",
   "execution_count": 40,
   "metadata": {},
   "outputs": [
    {
     "data": {
      "text/plain": [
       "63984"
      ]
     },
     "execution_count": 40,
     "metadata": {},
     "output_type": "execute_result"
    }
   ],
   "source": [
    "len(test_dataloader) * 8\n"
   ]
  },
  {
   "cell_type": "markdown",
   "metadata": {},
   "source": [
    "## BERT"
   ]
  },
  {
   "cell_type": "code",
   "execution_count": 45,
   "metadata": {},
   "outputs": [],
   "source": [
    "# Support functions\n",
    "\n",
    "def eval_classification(y_pred, y_true):\n",
    "    \"\"\" Evaluate binary classifier.   \n",
    "    \"\"\"\n",
    "    \n",
    "    cr = classification_report(y_true, y_pred, digits=6, output_dict=True)\n",
    "    cm = confusion_matrix(y_true, y_pred)\n",
    "    \n",
    "    print(classification_report(y_true, y_pred, digits=6))\n",
    "    print(confusion_matrix(y_true, y_pred))\n",
    "    \n",
    "    return cm, cr\n",
    "\n",
    "\n",
    "def visualize_losses(losses):\n",
    "    \"\"\" Plot training loss.\n",
    "    \"\"\"\n",
    "    \n",
    "    plt.figure(figsize=(12,6))\n",
    "    plt.title(\"Training loss\")\n",
    "    plt.xlabel(\"Batch\")\n",
    "    plt.ylabel(\"Loss\")\n",
    "    plt.plot(losses)\n",
    "    plt.show()\n",
    "\n",
    "    \n",
    "def visualize_accuracies(accuracies):\n",
    "    \"\"\" Plot training accuracies.\n",
    "    \"\"\"\n",
    "    \n",
    "    plt.figure(figsize=(12,6))\n",
    "    plt.title(\"Training accuracy\")\n",
    "    plt.xlabel(\"Epoch\")\n",
    "    plt.ylabel(\"Accuracy\")\n",
    "    plt.plot(accuracies)\n",
    "    plt.show()\n",
    "    \n",
    "\n",
    "def flat_accuracy(preds, labels):\n",
    "    \"\"\" Compute accuracy score.\n",
    "    \"\"\"\n",
    "    \n",
    "    pred_flat = np.argmax(preds, axis=1).flatten()\n",
    "    labels_flat = labels.flatten()\n",
    "    \n",
    "    return np.sum(pred_flat == labels_flat) / len(labels_flat)"
   ]
  },
  {
   "cell_type": "code",
   "execution_count": 43,
   "metadata": {},
   "outputs": [],
   "source": [
    "def predict_bert(model, validation_dataloader):\n",
    "    \"\"\" Produce prediction vector.\n",
    "    \"\"\"\n",
    "    \n",
    "    model.eval()\n",
    "    prediction = []\n",
    "\n",
    "    with torch.no_grad():\n",
    "        for i, batch in enumerate(tnb.tqdm(validation_dataloader)):\n",
    "            batch = tuple(t.to(device) for t in batch)\n",
    "            # Unpack the inputs from our dataloader\n",
    "            b_input_ids, b_input_mask, b_labels = batch\n",
    "            # Forward pass\n",
    "            outputs = model(b_input_ids, token_type_ids=None, attention_mask=b_input_mask)\n",
    "            prediction += torch.argmax(outputs[0],dim=1).tolist()\n",
    "    \n",
    "    return prediction"
   ]
  },
  {
   "cell_type": "markdown",
   "metadata": {},
   "source": [
    "### Parameters"
   ]
  },
  {
   "cell_type": "code",
   "execution_count": null,
   "metadata": {},
   "outputs": [],
   "source": [
    "lr = 1e-5\n",
    "\n",
    "epochs = 4\n",
    "total_steps = len(train_dataloader) * epochs"
   ]
  },
  {
   "cell_type": "markdown",
   "metadata": {},
   "source": [
    "### Training loop"
   ]
  },
  {
   "cell_type": "code",
   "execution_count": null,
   "metadata": {},
   "outputs": [],
   "source": [
    "def train_bert(model_id, device, train_dataloader, lr, num_total_steps, epochs):\n",
    "    \"\"\" Fine tune an instance of BERT.  \n",
    "    \"\"\"\n",
    "    \n",
    "    model = BertForSequenceClassification.from_pretrained(\n",
    "        model_id,\n",
    "        output_hidden_states=True,\n",
    "        output_attentions=True,\n",
    "        num_labels=2\n",
    "    )\n",
    "    model.to(device)\n",
    "    \n",
    "    # Optimizer initialization\n",
    "    optimizer = AdamW(\n",
    "        model.parameters(), \n",
    "        lr=lr\n",
    "    )\n",
    "\n",
    "    # 0 warmup steps is default in Glue example for Huggingface Transformers\n",
    "    scheduler = get_linear_schedule_with_warmup(\n",
    "        optimizer,\n",
    "        num_warmup_steps=0,\n",
    "        num_training_steps=num_total_steps\n",
    "    )\n",
    "\n",
    "    train_losses = []\n",
    "    train_accuracies = []\n",
    "\n",
    "    for epoch in tnb.tqdm(range(epochs)):\n",
    "        model.train()\n",
    "        e_loss = 0.0\n",
    "        e_steps = 0.0\n",
    "\n",
    "        # Train the data for one epoch\n",
    "        for i, batch in enumerate(tnb.tqdm(train_dataloader)):\n",
    "            batch = tuple(t.to(device) for t in batch)\n",
    "            b_input_ids, b_input_mask, b_labels = batch\n",
    "            \n",
    "            # Required by pytorch\n",
    "            optimizer.zero_grad()\n",
    "            \n",
    "            outputs = model(b_input_ids, token_type_ids=None, attention_mask=b_input_mask, labels=b_labels)\n",
    "            loss = outputs[0]\n",
    "            train_losses.append(loss.item())\n",
    "            loss.backward()\n",
    "            \n",
    "            optimizer.step()\n",
    "            scheduler.step()\n",
    "            \n",
    "            # Tracking losses\n",
    "            e_loss += loss.item()\n",
    "            e_steps += 1\n",
    "\n",
    "        print(\"Train loss at epoch {}: {}\".format(epoch, e_loss/e_steps))\n",
    "\n",
    "        # Compute train accuracy at epoch's end\n",
    "        model.eval()\n",
    "        e_acc = 0\n",
    "        e_steps = 0\n",
    "\n",
    "        # Evaluate data for one epoch\n",
    "        for batch in train_dataloader:\n",
    "            batch = tuple(t.to(device) for t in batch)\n",
    "            b_input_ids, b_input_mask, b_labels = batch\n",
    "            \n",
    "            with torch.no_grad():\n",
    "                # Forward pass, calculate logit predictions\n",
    "                outputs = model(b_input_ids, token_type_ids=None, attention_mask=b_input_mask)\n",
    "\n",
    "            # Move logits and labels to CPU\n",
    "            logits = outputs[0].detach().cpu().numpy()\n",
    "            label_ids = b_labels.to('cpu').numpy()\n",
    "\n",
    "            e_acc += flat_accuracy(logits, label_ids)\n",
    "            e_steps += 1\n",
    "\n",
    "        print(\"Training accuracy at epoch {}: {}\".format(epoch, e_acc/e_steps))\n",
    "        train_accuracies.append(e_acc/e_steps)\n",
    "\n",
    "    \n",
    "    return model, optimizer, train_losses, train_accuracies"
   ]
  },
  {
   "cell_type": "code",
   "execution_count": null,
   "metadata": {},
   "outputs": [],
   "source": [
    "model, optimizer, train_lossses, train_accuracies = train_bert(\n",
    "    model_id=model_id,\n",
    "    device=device,\n",
    "    train_dataloader=train_dataloader,\n",
    "    lr=lr,\n",
    "    num_total_steps=total_steps,\n",
    "    epochs=epochs\n",
    ")"
   ]
  },
  {
   "cell_type": "code",
   "execution_count": null,
   "metadata": {},
   "outputs": [],
   "source": [
    "torch.save(model.state_dict(), 'model.ckpt')"
   ]
  },
  {
   "cell_type": "markdown",
   "metadata": {},
   "source": [
    "### Results"
   ]
  },
  {
   "cell_type": "markdown",
   "metadata": {},
   "source": [
    "#### Training"
   ]
  },
  {
   "cell_type": "code",
   "execution_count": 31,
   "metadata": {},
   "outputs": [
    {
     "data": {
      "image/png": "[encoded data removed]",
      "text/plain": [
       "<Figure size 864x432 with 1 Axes>"
      ]
     },
     "metadata": {
      "needs_background": "light"
     },
     "output_type": "display_data"
    }
   ],
   "source": [
    "visualize_losses(train_lossses)"
   ]
  },
  {
   "cell_type": "code",
   "execution_count": 46,
   "metadata": {
    "scrolled": false
   },
   "outputs": [
    {
     "data": {
      "image/png": "[encoded data removed]",
      "text/plain": [
       "<Figure size 864x432 with 1 Axes>"
      ]
     },
     "metadata": {
      "needs_background": "light"
     },
     "output_type": "display_data"
    }
   ],
   "source": [
    "visualize_accuracies(train_accuracies)"
   ]
  },
  {
   "cell_type": "markdown",
   "metadata": {},
   "source": [
    "#### Testing"
   ]
  },
  {
   "cell_type": "code",
   "execution_count": 44,
   "metadata": {},
   "outputs": [
    {
     "data": {
      "application/vnd.jupyter.widget-view+json": {
       "model_id": "f5f0877842e144e1a797dfae72a20310",
       "version_major": 2,
       "version_minor": 0
      },
      "text/plain": [
       "HBox(children=(FloatProgress(value=0.0, max=7998.0), HTML(value='')))"
      ]
     },
     "metadata": {},
     "output_type": "display_data"
    },
    {
     "name": "stdout",
     "output_type": "stream",
     "text": [
      "\n"
     ]
    }
   ],
   "source": [
    "prediction = predict_bert(model, test_dataloader)"
   ]
  },
  {
   "cell_type": "code",
   "execution_count": 34,
   "metadata": {},
   "outputs": [
    {
     "name": "stdout",
     "output_type": "stream",
     "text": [
      "(63978,)\n"
     ]
    }
   ],
   "source": [
    "y_test = toxic_df_test_tk['toxic'].to_numpy()\n",
    "print(y_test.shape)"
   ]
  },
  {
   "cell_type": "code",
   "execution_count": 47,
   "metadata": {},
   "outputs": [
    {
     "name": "stdout",
     "output_type": "stream",
     "text": [
      "              precision    recall  f1-score   support\n",
      "\n",
      "           0   0.983489  0.926064  0.953913     57888\n",
      "           1   0.548046  0.852217  0.667095      6090\n",
      "\n",
      "    accuracy                       0.919035     63978\n",
      "   macro avg   0.765768  0.889140  0.810504     63978\n",
      "weighted avg   0.942039  0.919035  0.926611     63978\n",
      "\n",
      "[[53608  4280]\n",
      " [  900  5190]]\n"
     ]
    }
   ],
   "source": [
    "cm, cr = eval_classification(prediction, y_test)"
   ]
  },
  {
   "cell_type": "markdown",
   "metadata": {},
   "source": [
    "## Learned representation\n",
    "\n",
    "Now we are interested in extracting the learned representation of the input vectors. "
   ]
  },
  {
   "cell_type": "code",
   "execution_count": 57,
   "metadata": {},
   "outputs": [],
   "source": [
    "# We first create a dataloader with fixed order for the training set\n",
    "train_dataloader_ordered = DataLoader(train_data, shuffle=False, batch_size=batch_size)"
   ]
  },
  {
   "cell_type": "code",
   "execution_count": 72,
   "metadata": {
    "scrolled": true
   },
   "outputs": [
    {
     "data": {
      "text/plain": [
       "<bound method ModuleUtilsMixin.num_parameters of BertForSequenceClassification(\n",
       "  (bert): BertModel(\n",
       "    (embeddings): BertEmbeddings(\n",
       "      (word_embeddings): Embedding(30522, 768, padding_idx=0)\n",
       "      (position_embeddings): Embedding(512, 768)\n",
       "      (token_type_embeddings): Embedding(2, 768)\n",
       "      (LayerNorm): LayerNorm((768,), eps=1e-12, elementwise_affine=True)\n",
       "      (dropout): Dropout(p=0.1, inplace=False)\n",
       "    )\n",
       "    (encoder): BertEncoder(\n",
       "      (layer): ModuleList(\n",
       "        (0): BertLayer(\n",
       "          (attention): BertAttention(\n",
       "            (self): BertSelfAttention(\n",
       "              (query): Linear(in_features=768, out_features=768, bias=True)\n",
       "              (key): Linear(in_features=768, out_features=768, bias=True)\n",
       "              (value): Linear(in_features=768, out_features=768, bias=True)\n",
       "              (dropout): Dropout(p=0.1, inplace=False)\n",
       "            )\n",
       "            (output): BertSelfOutput(\n",
       "              (dense): Linear(in_features=768, out_features=768, bias=True)\n",
       "              (LayerNorm): LayerNorm((768,), eps=1e-12, elementwise_affine=True)\n",
       "              (dropout): Dropout(p=0.1, inplace=False)\n",
       "            )\n",
       "          )\n",
       "          (intermediate): BertIntermediate(\n",
       "            (dense): Linear(in_features=768, out_features=3072, bias=True)\n",
       "          )\n",
       "          (output): BertOutput(\n",
       "            (dense): Linear(in_features=3072, out_features=768, bias=True)\n",
       "            (LayerNorm): LayerNorm((768,), eps=1e-12, elementwise_affine=True)\n",
       "            (dropout): Dropout(p=0.1, inplace=False)\n",
       "          )\n",
       "        )\n",
       "        (1): BertLayer(\n",
       "          (attention): BertAttention(\n",
       "            (self): BertSelfAttention(\n",
       "              (query): Linear(in_features=768, out_features=768, bias=True)\n",
       "              (key): Linear(in_features=768, out_features=768, bias=True)\n",
       "              (value): Linear(in_features=768, out_features=768, bias=True)\n",
       "              (dropout): Dropout(p=0.1, inplace=False)\n",
       "            )\n",
       "            (output): BertSelfOutput(\n",
       "              (dense): Linear(in_features=768, out_features=768, bias=True)\n",
       "              (LayerNorm): LayerNorm((768,), eps=1e-12, elementwise_affine=True)\n",
       "              (dropout): Dropout(p=0.1, inplace=False)\n",
       "            )\n",
       "          )\n",
       "          (intermediate): BertIntermediate(\n",
       "            (dense): Linear(in_features=768, out_features=3072, bias=True)\n",
       "          )\n",
       "          (output): BertOutput(\n",
       "            (dense): Linear(in_features=3072, out_features=768, bias=True)\n",
       "            (LayerNorm): LayerNorm((768,), eps=1e-12, elementwise_affine=True)\n",
       "            (dropout): Dropout(p=0.1, inplace=False)\n",
       "          )\n",
       "        )\n",
       "        (2): BertLayer(\n",
       "          (attention): BertAttention(\n",
       "            (self): BertSelfAttention(\n",
       "              (query): Linear(in_features=768, out_features=768, bias=True)\n",
       "              (key): Linear(in_features=768, out_features=768, bias=True)\n",
       "              (value): Linear(in_features=768, out_features=768, bias=True)\n",
       "              (dropout): Dropout(p=0.1, inplace=False)\n",
       "            )\n",
       "            (output): BertSelfOutput(\n",
       "              (dense): Linear(in_features=768, out_features=768, bias=True)\n",
       "              (LayerNorm): LayerNorm((768,), eps=1e-12, elementwise_affine=True)\n",
       "              (dropout): Dropout(p=0.1, inplace=False)\n",
       "            )\n",
       "          )\n",
       "          (intermediate): BertIntermediate(\n",
       "            (dense): Linear(in_features=768, out_features=3072, bias=True)\n",
       "          )\n",
       "          (output): BertOutput(\n",
       "            (dense): Linear(in_features=3072, out_features=768, bias=True)\n",
       "            (LayerNorm): LayerNorm((768,), eps=1e-12, elementwise_affine=True)\n",
       "            (dropout): Dropout(p=0.1, inplace=False)\n",
       "          )\n",
       "        )\n",
       "        (3): BertLayer(\n",
       "          (attention): BertAttention(\n",
       "            (self): BertSelfAttention(\n",
       "              (query): Linear(in_features=768, out_features=768, bias=True)\n",
       "              (key): Linear(in_features=768, out_features=768, bias=True)\n",
       "              (value): Linear(in_features=768, out_features=768, bias=True)\n",
       "              (dropout): Dropout(p=0.1, inplace=False)\n",
       "            )\n",
       "            (output): BertSelfOutput(\n",
       "              (dense): Linear(in_features=768, out_features=768, bias=True)\n",
       "              (LayerNorm): LayerNorm((768,), eps=1e-12, elementwise_affine=True)\n",
       "              (dropout): Dropout(p=0.1, inplace=False)\n",
       "            )\n",
       "          )\n",
       "          (intermediate): BertIntermediate(\n",
       "            (dense): Linear(in_features=768, out_features=3072, bias=True)\n",
       "          )\n",
       "          (output): BertOutput(\n",
       "            (dense): Linear(in_features=3072, out_features=768, bias=True)\n",
       "            (LayerNorm): LayerNorm((768,), eps=1e-12, elementwise_affine=True)\n",
       "            (dropout): Dropout(p=0.1, inplace=False)\n",
       "          )\n",
       "        )\n",
       "        (4): BertLayer(\n",
       "          (attention): BertAttention(\n",
       "            (self): BertSelfAttention(\n",
       "              (query): Linear(in_features=768, out_features=768, bias=True)\n",
       "              (key): Linear(in_features=768, out_features=768, bias=True)\n",
       "              (value): Linear(in_features=768, out_features=768, bias=True)\n",
       "              (dropout): Dropout(p=0.1, inplace=False)\n",
       "            )\n",
       "            (output): BertSelfOutput(\n",
       "              (dense): Linear(in_features=768, out_features=768, bias=True)\n",
       "              (LayerNorm): LayerNorm((768,), eps=1e-12, elementwise_affine=True)\n",
       "              (dropout): Dropout(p=0.1, inplace=False)\n",
       "            )\n",
       "          )\n",
       "          (intermediate): BertIntermediate(\n",
       "            (dense): Linear(in_features=768, out_features=3072, bias=True)\n",
       "          )\n",
       "          (output): BertOutput(\n",
       "            (dense): Linear(in_features=3072, out_features=768, bias=True)\n",
       "            (LayerNorm): LayerNorm((768,), eps=1e-12, elementwise_affine=True)\n",
       "            (dropout): Dropout(p=0.1, inplace=False)\n",
       "          )\n",
       "        )\n",
       "        (5): BertLayer(\n",
       "          (attention): BertAttention(\n",
       "            (self): BertSelfAttention(\n",
       "              (query): Linear(in_features=768, out_features=768, bias=True)\n",
       "              (key): Linear(in_features=768, out_features=768, bias=True)\n",
       "              (value): Linear(in_features=768, out_features=768, bias=True)\n",
       "              (dropout): Dropout(p=0.1, inplace=False)\n",
       "            )\n",
       "            (output): BertSelfOutput(\n",
       "              (dense): Linear(in_features=768, out_features=768, bias=True)\n",
       "              (LayerNorm): LayerNorm((768,), eps=1e-12, elementwise_affine=True)\n",
       "              (dropout): Dropout(p=0.1, inplace=False)\n",
       "            )\n",
       "          )\n",
       "          (intermediate): BertIntermediate(\n",
       "            (dense): Linear(in_features=768, out_features=3072, bias=True)\n",
       "          )\n",
       "          (output): BertOutput(\n",
       "            (dense): Linear(in_features=3072, out_features=768, bias=True)\n",
       "            (LayerNorm): LayerNorm((768,), eps=1e-12, elementwise_affine=True)\n",
       "            (dropout): Dropout(p=0.1, inplace=False)\n",
       "          )\n",
       "        )\n",
       "        (6): BertLayer(\n",
       "          (attention): BertAttention(\n",
       "            (self): BertSelfAttention(\n",
       "              (query): Linear(in_features=768, out_features=768, bias=True)\n",
       "              (key): Linear(in_features=768, out_features=768, bias=True)\n",
       "              (value): Linear(in_features=768, out_features=768, bias=True)\n",
       "              (dropout): Dropout(p=0.1, inplace=False)\n",
       "            )\n",
       "            (output): BertSelfOutput(\n",
       "              (dense): Linear(in_features=768, out_features=768, bias=True)\n",
       "              (LayerNorm): LayerNorm((768,), eps=1e-12, elementwise_affine=True)\n",
       "              (dropout): Dropout(p=0.1, inplace=False)\n",
       "            )\n",
       "          )\n",
       "          (intermediate): BertIntermediate(\n",
       "            (dense): Linear(in_features=768, out_features=3072, bias=True)\n",
       "          )\n",
       "          (output): BertOutput(\n",
       "            (dense): Linear(in_features=3072, out_features=768, bias=True)\n",
       "            (LayerNorm): LayerNorm((768,), eps=1e-12, elementwise_affine=True)\n",
       "            (dropout): Dropout(p=0.1, inplace=False)\n",
       "          )\n",
       "        )\n",
       "        (7): BertLayer(\n",
       "          (attention): BertAttention(\n",
       "            (self): BertSelfAttention(\n",
       "              (query): Linear(in_features=768, out_features=768, bias=True)\n",
       "              (key): Linear(in_features=768, out_features=768, bias=True)\n",
       "              (value): Linear(in_features=768, out_features=768, bias=True)\n",
       "              (dropout): Dropout(p=0.1, inplace=False)\n",
       "            )\n",
       "            (output): BertSelfOutput(\n",
       "              (dense): Linear(in_features=768, out_features=768, bias=True)\n",
       "              (LayerNorm): LayerNorm((768,), eps=1e-12, elementwise_affine=True)\n",
       "              (dropout): Dropout(p=0.1, inplace=False)\n",
       "            )\n",
       "          )\n",
       "          (intermediate): BertIntermediate(\n",
       "            (dense): Linear(in_features=768, out_features=3072, bias=True)\n",
       "          )\n",
       "          (output): BertOutput(\n",
       "            (dense): Linear(in_features=3072, out_features=768, bias=True)\n",
       "            (LayerNorm): LayerNorm((768,), eps=1e-12, elementwise_affine=True)\n",
       "            (dropout): Dropout(p=0.1, inplace=False)\n",
       "          )\n",
       "        )\n",
       "        (8): BertLayer(\n",
       "          (attention): BertAttention(\n",
       "            (self): BertSelfAttention(\n",
       "              (query): Linear(in_features=768, out_features=768, bias=True)\n",
       "              (key): Linear(in_features=768, out_features=768, bias=True)\n",
       "              (value): Linear(in_features=768, out_features=768, bias=True)\n",
       "              (dropout): Dropout(p=0.1, inplace=False)\n",
       "            )\n",
       "            (output): BertSelfOutput(\n",
       "              (dense): Linear(in_features=768, out_features=768, bias=True)\n",
       "              (LayerNorm): LayerNorm((768,), eps=1e-12, elementwise_affine=True)\n",
       "              (dropout): Dropout(p=0.1, inplace=False)\n",
       "            )\n",
       "          )\n",
       "          (intermediate): BertIntermediate(\n",
       "            (dense): Linear(in_features=768, out_features=3072, bias=True)\n",
       "          )\n",
       "          (output): BertOutput(\n",
       "            (dense): Linear(in_features=3072, out_features=768, bias=True)\n",
       "            (LayerNorm): LayerNorm((768,), eps=1e-12, elementwise_affine=True)\n",
       "            (dropout): Dropout(p=0.1, inplace=False)\n",
       "          )\n",
       "        )\n",
       "        (9): BertLayer(\n",
       "          (attention): BertAttention(\n",
       "            (self): BertSelfAttention(\n",
       "              (query): Linear(in_features=768, out_features=768, bias=True)\n",
       "              (key): Linear(in_features=768, out_features=768, bias=True)\n",
       "              (value): Linear(in_features=768, out_features=768, bias=True)\n",
       "              (dropout): Dropout(p=0.1, inplace=False)\n",
       "            )\n",
       "            (output): BertSelfOutput(\n",
       "              (dense): Linear(in_features=768, out_features=768, bias=True)\n",
       "              (LayerNorm): LayerNorm((768,), eps=1e-12, elementwise_affine=True)\n",
       "              (dropout): Dropout(p=0.1, inplace=False)\n",
       "            )\n",
       "          )\n",
       "          (intermediate): BertIntermediate(\n",
       "            (dense): Linear(in_features=768, out_features=3072, bias=True)\n",
       "          )\n",
       "          (output): BertOutput(\n",
       "            (dense): Linear(in_features=3072, out_features=768, bias=True)\n",
       "            (LayerNorm): LayerNorm((768,), eps=1e-12, elementwise_affine=True)\n",
       "            (dropout): Dropout(p=0.1, inplace=False)\n",
       "          )\n",
       "        )\n",
       "        (10): BertLayer(\n",
       "          (attention): BertAttention(\n",
       "            (self): BertSelfAttention(\n",
       "              (query): Linear(in_features=768, out_features=768, bias=True)\n",
       "              (key): Linear(in_features=768, out_features=768, bias=True)\n",
       "              (value): Linear(in_features=768, out_features=768, bias=True)\n",
       "              (dropout): Dropout(p=0.1, inplace=False)\n",
       "            )\n",
       "            (output): BertSelfOutput(\n",
       "              (dense): Linear(in_features=768, out_features=768, bias=True)\n",
       "              (LayerNorm): LayerNorm((768,), eps=1e-12, elementwise_affine=True)\n",
       "              (dropout): Dropout(p=0.1, inplace=False)\n",
       "            )\n",
       "          )\n",
       "          (intermediate): BertIntermediate(\n",
       "            (dense): Linear(in_features=768, out_features=3072, bias=True)\n",
       "          )\n",
       "          (output): BertOutput(\n",
       "            (dense): Linear(in_features=3072, out_features=768, bias=True)\n",
       "            (LayerNorm): LayerNorm((768,), eps=1e-12, elementwise_affine=True)\n",
       "            (dropout): Dropout(p=0.1, inplace=False)\n",
       "          )\n",
       "        )\n",
       "        (11): BertLayer(\n",
       "          (attention): BertAttention(\n",
       "            (self): BertSelfAttention(\n",
       "              (query): Linear(in_features=768, out_features=768, bias=True)\n",
       "              (key): Linear(in_features=768, out_features=768, bias=True)\n",
       "              (value): Linear(in_features=768, out_features=768, bias=True)\n",
       "              (dropout): Dropout(p=0.1, inplace=False)\n",
       "            )\n",
       "            (output): BertSelfOutput(\n",
       "              (dense): Linear(in_features=768, out_features=768, bias=True)\n",
       "              (LayerNorm): LayerNorm((768,), eps=1e-12, elementwise_affine=True)\n",
       "              (dropout): Dropout(p=0.1, inplace=False)\n",
       "            )\n",
       "          )\n",
       "          (intermediate): BertIntermediate(\n",
       "            (dense): Linear(in_features=768, out_features=3072, bias=True)\n",
       "          )\n",
       "          (output): BertOutput(\n",
       "            (dense): Linear(in_features=3072, out_features=768, bias=True)\n",
       "            (LayerNorm): LayerNorm((768,), eps=1e-12, elementwise_affine=True)\n",
       "            (dropout): Dropout(p=0.1, inplace=False)\n",
       "          )\n",
       "        )\n",
       "      )\n",
       "    )\n",
       "    (pooler): BertPooler(\n",
       "      (dense): Linear(in_features=768, out_features=768, bias=True)\n",
       "      (activation): Tanh()\n",
       "    )\n",
       "  )\n",
       "  (dropout): Dropout(p=0.1, inplace=False)\n",
       "  (classifier): Linear(in_features=768, out_features=2, bias=True)\n",
       ")>"
      ]
     },
     "execution_count": 72,
     "metadata": {},
     "output_type": "execute_result"
    }
   ],
   "source": [
    "model.num_parameters"
   ]
  },
  {
   "cell_type": "code",
   "execution_count": null,
   "metadata": {
    "scrolled": false
   },
   "outputs": [
    {
     "data": {
      "application/vnd.jupyter.widget-view+json": {
       "model_id": "4968c3446831475496fe151c09d2fbe2",
       "version_major": 2,
       "version_minor": 0
      },
      "text/plain": [
       "HBox(children=(FloatProgress(value=0.0, max=19947.0), HTML(value='')))"
      ]
     },
     "metadata": {},
     "output_type": "display_data"
    }
   ],
   "source": [
    "# Then we extract the representation for each batch\n",
    "train_representations = []\n",
    "\n",
    "with torch.no_grad():\n",
    "    for i, batch in enumerate(tnb.tqdm(train_dataloader_ordered), 0):\n",
    "\n",
    "        batch = tuple(t.to(device) for t in batch)\n",
    "        b_input_ids, b_input_mask, b_labels = batch\n",
    "        \n",
    "        outputs = model(b_input_ids, attention_mask=b_input_mask, labels=b_labels)\n",
    "        loss, logits, hidden_states, attentions = outputs\n",
    "\n",
    "        # Bert is 12 layers deep, the 13th layer is the classifier.\n",
    "        representation = hidden_states[11].cpu().numpy()\n",
    "        \n",
    "        train_representations.append(representation)"
   ]
  },
  {
   "cell_type": "code",
   "execution_count": null,
   "metadata": {},
   "outputs": [],
   "source": []
  }
 ],
 "metadata": {
  "kernelspec": {
   "display_name": "Python 3",
   "language": "python",
   "name": "python3"
  },
  "language_info": {
   "codemirror_mode": {
    "name": "ipython",
    "version": 3
   },
   "file_extension": ".py",
   "mimetype": "text/x-python",
   "name": "python",
   "nbconvert_exporter": "python",
   "pygments_lexer": "ipython3",
   "version": "3.7.5"
  }
 },
 "nbformat": 4,
 "nbformat_minor": 4
}
