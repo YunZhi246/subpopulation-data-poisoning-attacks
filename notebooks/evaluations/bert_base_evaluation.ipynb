{
 "cells": [
  {
   "cell_type": "code",
   "execution_count": 1,
   "metadata": {},
   "outputs": [],
   "source": [
    "%load_ext autoreload\n",
    "%autoreload 2"
   ]
  },
  {
   "cell_type": "code",
   "execution_count": 2,
   "metadata": {},
   "outputs": [],
   "source": [
    "import os\n",
    "import gc\n",
    "import sys\n",
    "\n",
    "import torch"
   ]
  },
  {
   "cell_type": "code",
   "execution_count": 3,
   "metadata": {},
   "outputs": [],
   "source": [
    "os.chdir('../../')"
   ]
  },
  {
   "cell_type": "code",
   "execution_count": 20,
   "metadata": {},
   "outputs": [],
   "source": [
    "import numpy as np\n",
    "import pandas as pd"
   ]
  },
  {
   "cell_type": "code",
   "execution_count": 4,
   "metadata": {},
   "outputs": [],
   "source": [
    "from subclass_avail import common\n",
    "from subclass_avail.target_nlp import bert_utils"
   ]
  },
  {
   "cell_type": "markdown",
   "metadata": {},
   "source": [
    "# Evaluation\n",
    "\n",
    "This notebook can be used to get the basic accuracy results for the fine tuned BERT models on the IMDB dataset.\n",
    "\n",
    "Let's start by setting up some parameters."
   ]
  },
  {
   "cell_type": "code",
   "execution_count": 5,
   "metadata": {},
   "outputs": [],
   "source": [
    "# This is the list of models that will be loaded and evaluated.\n",
    "# Change this to load arbitrary BERT models.\n",
    "model_files = [\n",
    "    'imdb_bert_FT_ADV.ckpt',\n",
    "    'imdb_bert_FT_DEF.ckpt',\n",
    "    'imdb_bert_LL_ADV.ckpt',\n",
    "    'imdb_bert_LL_DEF.ckpt'\n",
    "]\n",
    "\n",
    "batch = 16"
   ]
  },
  {
   "cell_type": "markdown",
   "metadata": {},
   "source": [
    "## Data"
   ]
  },
  {
   "cell_type": "code",
   "execution_count": 6,
   "metadata": {},
   "outputs": [
    {
     "name": "stdout",
     "output_type": "stream",
     "text": [
      "Splitting data sets for training.\n",
      "Data shapes:\n",
      "ids_train: 12500\n",
      "att_train: 12500\n",
      "y_train: 12500\n",
      "ids_test: 25000\n",
      "att_test: 25000\n",
      "y_test: 25000\n",
      "Tensors shapes:\n",
      "ids_train: torch.Size([12500, 256])\n",
      "att_train: torch.Size([12500, 256])\n",
      "y_train: torch.Size([12500])\n",
      "ids_test: torch.Size([25000, 256])\n",
      "att_test: torch.Size([25000, 256])\n",
      "y_test: torch.Size([25000])\n",
      "Data shapes:\n",
      "ids_train: 12500\n",
      "att_train: 12500\n",
      "y_train: 12500\n",
      "ids_test: 25000\n",
      "att_test: 25000\n",
      "y_test: 25000\n",
      "Tensors shapes:\n",
      "ids_train: torch.Size([12500, 256])\n",
      "att_train: torch.Size([12500, 256])\n",
      "y_train: torch.Size([12500])\n",
      "ids_test: torch.Size([25000, 256])\n",
      "att_test: torch.Size([25000, 256])\n",
      "y_test: torch.Size([25000])\n"
     ]
    }
   ],
   "source": [
    "train_def, train_adv, test = bert_utils.load_split_tokenized_data()\n",
    "train_def_ds, train_def_dl, test_ds, test_dl = bert_utils.get_data_loaders(\n",
    "    train_df=train_def,\n",
    "    test_df=test,\n",
    "    batch_size=batch,\n",
    "    shuffle=False\n",
    ")\n",
    "train_adv_ds, train_adv_dl, test_ds, test_dl = bert_utils.get_data_loaders(\n",
    "    train_df=train_adv,\n",
    "    test_df=test,\n",
    "    batch_size=batch,\n",
    "    shuffle=False\n",
    ")"
   ]
  },
  {
   "cell_type": "code",
   "execution_count": 7,
   "metadata": {},
   "outputs": [
    {
     "name": "stdout",
     "output_type": "stream",
     "text": [
      "Available device:  cuda\n",
      "Loading model: imdb_bert_FT_ADV.ckpt\n"
     ]
    }
   ],
   "source": [
    "device = bert_utils.get_device()\n",
    "    \n",
    "model = bert_utils.load_bert(model_file=model_files[0])"
   ]
  },
  {
   "cell_type": "code",
   "execution_count": 8,
   "metadata": {},
   "outputs": [
    {
     "name": "stderr",
     "output_type": "stream",
     "text": [
      "100%|██████████| 1563/1563 [03:45<00:00,  6.95it/s]\n"
     ]
    }
   ],
   "source": [
    "predres = bert_utils.predict_bert(model, device, test_dl, raw=True)"
   ]
  },
  {
   "cell_type": "code",
   "execution_count": 23,
   "metadata": {},
   "outputs": [],
   "source": [
    "predresarr = [np.array(p) for p in predres[1]]"
   ]
  },
  {
   "cell_type": "code",
   "execution_count": 27,
   "metadata": {},
   "outputs": [],
   "source": [
    "predresarr = np.concatenate(predresarr)"
   ]
  },
  {
   "cell_type": "code",
   "execution_count": 29,
   "metadata": {},
   "outputs": [
    {
     "data": {
      "text/plain": [
       "(25000, 2)"
      ]
     },
     "execution_count": 29,
     "metadata": {},
     "output_type": "execute_result"
    }
   ],
   "source": [
    "predresarr.shape"
   ]
  },
  {
   "cell_type": "code",
   "execution_count": null,
   "metadata": {},
   "outputs": [],
   "source": []
  },
  {
   "cell_type": "markdown",
   "metadata": {},
   "source": [
    "## Model evaluation"
   ]
  },
  {
   "cell_type": "code",
   "execution_count": 7,
   "metadata": {},
   "outputs": [
    {
     "name": "stdout",
     "output_type": "stream",
     "text": [
      "Available device:  cuda\n",
      "Loading model: imdb_bert_FT_ADV.ckpt\n"
     ]
    },
    {
     "name": "stderr",
     "output_type": "stream",
     "text": [
      "100%|██████████| 1563/1563 [03:47<00:00,  6.87it/s]\n"
     ]
    },
    {
     "name": "stdout",
     "output_type": "stream",
     "text": [
      "Model imdb_bert_FT_ADV.ckpt obtains accuracy 0.916\n",
      "\n",
      "Available device:  cuda\n",
      "Loading model: imdb_bert_FT_DEF.ckpt\n"
     ]
    },
    {
     "name": "stderr",
     "output_type": "stream",
     "text": [
      "100%|██████████| 1563/1563 [03:49<00:00,  6.81it/s]\n"
     ]
    },
    {
     "name": "stdout",
     "output_type": "stream",
     "text": [
      "Model imdb_bert_FT_DEF.ckpt obtains accuracy 0.9122\n",
      "\n",
      "Available device:  cuda\n",
      "Loading model: imdb_bert_LL_ADV.ckpt\n"
     ]
    },
    {
     "name": "stderr",
     "output_type": "stream",
     "text": [
      "100%|██████████| 1563/1563 [03:49<00:00,  6.81it/s]\n"
     ]
    },
    {
     "name": "stdout",
     "output_type": "stream",
     "text": [
      "Model imdb_bert_LL_ADV.ckpt obtains accuracy 0.88972\n",
      "\n",
      "Available device:  cuda\n",
      "Loading model: imdb_bert_LL_DEF.ckpt\n"
     ]
    },
    {
     "name": "stderr",
     "output_type": "stream",
     "text": [
      "100%|██████████| 1563/1563 [03:49<00:00,  6.81it/s]"
     ]
    },
    {
     "name": "stdout",
     "output_type": "stream",
     "text": [
      "Model imdb_bert_LL_DEF.ckpt obtains accuracy 0.88756\n",
      "\n"
     ]
    },
    {
     "name": "stderr",
     "output_type": "stream",
     "text": [
      "\n"
     ]
    }
   ],
   "source": [
    "for model_file in model_files:\n",
    "    # Housekeeping\n",
    "    gc.collect()\n",
    "    torch.cuda.empty_cache()\n",
    "    \n",
    "    device = bert_utils.get_device()\n",
    "    \n",
    "    model = bert_utils.load_bert(model_file=model_file)\n",
    "    accuracy = bert_utils.predict_bert(model, device, test_dl, acc=True)\n",
    "    \n",
    "    print('Model {} obtains accuracy {}\\n'.format(model_file, accuracy))\n",
    "    # Housekeeping\n",
    "    del model\n"
   ]
  },
  {
   "cell_type": "code",
   "execution_count": null,
   "metadata": {},
   "outputs": [],
   "source": []
  }
 ],
 "metadata": {
  "kernelspec": {
   "display_name": "Python 3",
   "language": "python",
   "name": "python3"
  },
  "language_info": {
   "codemirror_mode": {
    "name": "ipython",
    "version": 3
   },
   "file_extension": ".py",
   "mimetype": "text/x-python",
   "name": "python",
   "nbconvert_exporter": "python",
   "pygments_lexer": "ipython3",
   "version": "3.7.5"
  }
 },
 "nbformat": 4,
 "nbformat_minor": 4
}
