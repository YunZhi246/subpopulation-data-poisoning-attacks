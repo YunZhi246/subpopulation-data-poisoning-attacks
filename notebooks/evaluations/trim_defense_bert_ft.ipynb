{
 "cells": [
  {
   "cell_type": "code",
   "execution_count": 1,
   "metadata": {},
   "outputs": [],
   "source": [
    "%load_ext autoreload\n",
    "%autoreload 2"
   ]
  },
  {
   "cell_type": "code",
   "execution_count": 2,
   "metadata": {},
   "outputs": [],
   "source": [
    "import os"
   ]
  },
  {
   "cell_type": "code",
   "execution_count": 3,
   "metadata": {},
   "outputs": [],
   "source": [
    "os.chdir('../../')\n",
    "os.environ['ML_DATA'] = ''"
   ]
  },
  {
   "cell_type": "code",
   "execution_count": 4,
   "metadata": {},
   "outputs": [],
   "source": [
    "import torch\n",
    "import numpy as np\n",
    "import pandas as pd\n",
    "\n",
    "from tqdm.auto import tqdm\n",
    "from sklearn.preprocessing import OneHotEncoder\n",
    "from torch.utils.data import TensorDataset, DataLoader\n",
    "\n",
    "from attack_nlp import init_cluster_attack\n",
    "from subclass_avail.target_nlp import bert_utils"
   ]
  },
  {
   "cell_type": "code",
   "execution_count": 5,
   "metadata": {},
   "outputs": [],
   "source": [
    "# Constants\n",
    "\n",
    "seed = 42\n",
    "batch = 4\n",
    "lr = 1e-5\n",
    "epochs = 4\n",
    "\n",
    "# Run specific parameters\n",
    "pois_rate = 2.0\n",
    "cl_ind = 24\n",
    "n_remove = 150\n",
    "base_def = 0.988372\n",
    "\n",
    "m_type = 'FT'\n",
    "frozen = False"
   ]
  },
  {
   "cell_type": "code",
   "execution_count": 6,
   "metadata": {},
   "outputs": [
    {
     "name": "stdout",
     "output_type": "stream",
     "text": [
      "Available device:  cuda\n"
     ]
    }
   ],
   "source": [
    "device = bert_utils.get_device()\n",
    "bert_utils.set_seed(device, seed=seed)  # Seed all the PRNGs"
   ]
  },
  {
   "cell_type": "markdown",
   "metadata": {},
   "source": [
    "## Clustering"
   ]
  },
  {
   "cell_type": "code",
   "execution_count": 7,
   "metadata": {},
   "outputs": [
    {
     "name": "stdout",
     "output_type": "stream",
     "text": [
      "Available device:  cuda\n",
      "Loading model: imdb_bert_FT_ADV.ckpt\n",
      "Splitting data sets for training.\n",
      "Data shapes:\n",
      "ids_train: 12500\n",
      "att_train: 12500\n",
      "y_train: 12500\n",
      "ids_test: 25000\n",
      "att_test: 25000\n",
      "y_test: 25000\n"
     ]
    },
    {
     "name": "stderr",
     "output_type": "stream",
     "text": [
      "\r",
      "  0%|          | 0/3125 [00:00<?, ?it/s]"
     ]
    },
    {
     "name": "stdout",
     "output_type": "stream",
     "text": [
      "Tensors shapes:\n",
      "ids_train: torch.Size([12500, 256])\n",
      "att_train: torch.Size([12500, 256])\n",
      "y_train: torch.Size([12500])\n",
      "ids_test: torch.Size([25000, 256])\n",
      "att_test: torch.Size([25000, 256])\n",
      "y_test: torch.Size([25000])\n",
      "Data shapes:\n",
      "ids_train: 12500\n",
      "att_train: 12500\n",
      "y_train: 12500\n",
      "ids_test: 25000\n",
      "att_test: 25000\n",
      "y_test: 25000\n",
      "Tensors shapes:\n",
      "ids_train: torch.Size([12500, 256])\n",
      "att_train: torch.Size([12500, 256])\n",
      "y_train: torch.Size([12500])\n",
      "ids_test: torch.Size([25000, 256])\n",
      "att_test: torch.Size([25000, 256])\n",
      "y_test: torch.Size([25000])\n",
      "\n",
      "Getting def train representations\n",
      "Available device:  cuda\n",
      "Representation size:(12500, 256, 768)\n",
      "\n",
      "Getting adv train representations\n",
      "Available device:  cuda\n",
      "Representation size:(12500, 256, 768)\n",
      "\n",
      "Getting test representations\n",
      "Available device:  cuda\n",
      "Representation size:(25000, 256, 768)\n",
      "\n",
      "Computing predictions on the training sets\n"
     ]
    },
    {
     "name": "stderr",
     "output_type": "stream",
     "text": [
      "100%|██████████| 3125/3125 [02:05<00:00, 24.95it/s]\n",
      "100%|██████████| 3125/3125 [02:07<00:00, 24.55it/s]\n"
     ]
    },
    {
     "name": "stdout",
     "output_type": "stream",
     "text": [
      "\n",
      "Shapes\n",
      "\tll: (12500, 196608)\n",
      "\tll_ho: (12500, 196608)\n",
      "\tll_t: (25000, 196608)\n",
      "\n",
      "Clustering ll_ho\n",
      "\n",
      "Clustering ll_t\n",
      "\n",
      "Clustering ll\n",
      "CPU times: user 10min 10s, sys: 1min 21s, total: 11min 32s\n",
      "Wall time: 9min 46s\n"
     ]
    }
   ],
   "source": [
    "%%time\n",
    "(x, y, ll, labels, preds), \\\n",
    "(x_ho, y_ho, ll_ho, labels_ho, preds_ho), \\\n",
    "(x_t, y_t, ll_t, labels_t) = init_cluster_attack(frozen=frozen, n_clusters=100, pca_dim=10)"
   ]
  },
  {
   "cell_type": "code",
   "execution_count": 8,
   "metadata": {},
   "outputs": [
    {
     "name": "stdout",
     "output_type": "stream",
     "text": [
      "labels distr (array([ 0,  1,  2,  3,  4,  5,  6,  7,  8,  9, 10, 11, 12, 13, 14, 15, 16,\n",
      "       17, 18, 19, 20, 21, 22, 23, 24, 25, 26, 27, 28, 29, 30, 31, 32, 33,\n",
      "       34, 35, 36, 37, 38, 39, 40, 41, 42, 43, 44, 45, 46, 47, 48, 49, 50,\n",
      "       51, 52, 53, 54, 55, 56, 57, 58, 59, 60, 61, 62, 63, 64, 65, 66, 67,\n",
      "       68, 69, 70, 71, 72, 73, 74, 75, 76, 77, 78, 79, 80, 81, 82, 83, 84,\n",
      "       85, 86, 87, 88, 89, 90, 91, 92, 93, 94, 95, 96, 97, 98, 99],\n",
      "      dtype=int32), array([ 84, 295, 127, 184,  66, 118,  77,  73,  96,  81,  87, 141, 119,\n",
      "       259, 255, 116, 112,  90,  96, 133, 114, 122, 250, 111,  91,  84,\n",
      "       259, 100,  71, 140,  95, 140,  61, 249, 100, 105, 135, 187,  77,\n",
      "       203,  99,  85, 103, 105,  52, 117,  94, 184,  99,  99, 140,  79,\n",
      "        76,  94,  76, 214,  98, 113,  64,  89,  97,  80, 180,  65, 108,\n",
      "        81,  82, 116,  76, 110, 202, 205, 219,  97,  85, 112,  97, 146,\n",
      "       100, 149, 103,  82, 102, 220,  54,  72, 101,  75, 106, 289,  64,\n",
      "       197, 269, 179, 204, 245,  88,  75,  95,  90]))\n",
      "ho labels distr (array([ 0,  1,  2,  3,  4,  5,  6,  7,  8,  9, 10, 11, 12, 13, 14, 15, 16,\n",
      "       17, 18, 19, 20, 21, 22, 23, 24, 25, 26, 27, 28, 29, 30, 31, 32, 33,\n",
      "       34, 35, 36, 37, 38, 39, 40, 41, 42, 43, 44, 45, 46, 47, 48, 49, 50,\n",
      "       51, 52, 53, 54, 55, 56, 57, 58, 59, 60, 61, 62, 63, 64, 65, 66, 67,\n",
      "       68, 69, 70, 71, 72, 73, 74, 75, 76, 77, 78, 79, 80, 81, 82, 83, 84,\n",
      "       85, 86, 87, 88, 89, 90, 91, 92, 93, 94, 95, 96, 97, 98, 99],\n",
      "      dtype=int32), array([ 86, 305, 118, 190,  64, 105,  87,  69,  80,  99,  99, 189, 104,\n",
      "       247, 177, 103,  88,  69,  98, 127, 116, 156, 234, 111,  75,  67,\n",
      "       239, 107,  81, 139,  94, 130,  63, 274, 105,  92, 111, 181,  89,\n",
      "       164, 106,  92,  95, 127,  38,  96,  84, 201, 106,  99, 129,  76,\n",
      "        85,  90,  88, 222,  77, 132,  73,  86,  98,  78, 175,  95,  99,\n",
      "        82,  84, 111,  97, 101, 191, 193, 221, 130,  91, 111, 110, 157,\n",
      "       126, 132, 109,  97, 108, 219,  91,  97, 101,  88,  91, 304,  62,\n",
      "       186, 288, 173, 207, 214,  84,  84, 110,  71]))\n",
      "test distr (array([ 0,  1,  2,  3,  4,  5,  6,  7,  8,  9, 10, 11, 12, 13, 14, 15, 16,\n",
      "       17, 18, 19, 20, 21, 22, 23, 24, 25, 26, 27, 28, 29, 30, 31, 32, 33,\n",
      "       34, 35, 36, 37, 38, 39, 40, 41, 42, 43, 44, 45, 46, 47, 48, 49, 50,\n",
      "       51, 52, 53, 54, 55, 56, 57, 58, 59, 60, 61, 62, 63, 64, 65, 66, 67,\n",
      "       68, 69, 70, 71, 72, 73, 74, 75, 76, 77, 78, 79, 80, 81, 82, 83, 84,\n",
      "       85, 86, 87, 88, 89, 90, 91, 92, 93, 94, 95, 96, 97, 98, 99],\n",
      "      dtype=int32), array([161, 576, 217, 334, 118, 219, 162, 141, 178, 181, 187, 314, 230,\n",
      "       559, 525, 217, 211, 187, 211, 246, 229, 249, 455, 210, 172, 183,\n",
      "       483, 179, 156, 240, 165, 261, 160, 490, 247, 169, 227, 382, 176,\n",
      "       414, 198, 195, 181, 229, 121, 215, 204, 337, 202, 204, 276, 167,\n",
      "       174, 237, 176, 397, 177, 199, 144, 207, 184, 143, 370, 131, 200,\n",
      "       134, 169, 225, 206, 178, 336, 352, 463, 219, 154, 198, 239, 316,\n",
      "       243, 303, 201, 191, 252, 399, 144, 169, 227, 194, 211, 640, 139,\n",
      "       365, 505, 354, 346, 529, 177, 143, 223, 167]))\n",
      "\n",
      "x shape: (12500, 256)\n",
      "x_ho shape:(12500, 256)\n",
      "x_t shape: (25000, 256)\n"
     ]
    }
   ],
   "source": [
    "x, x_att = x\n",
    "x_ho, x_ho_att = x_ho\n",
    "x_t, x_t_att = x_t\n",
    "\n",
    "l_d = np.unique(labels, return_counts=True)\n",
    "lt_d = np.unique(labels_t, return_counts=True)\n",
    "lho_d = np.unique(labels_ho, return_counts=True)\n",
    "\n",
    "print(\"labels distr\", l_d)\n",
    "print(\"ho labels distr\", lho_d)\n",
    "print(\"test distr\", lt_d)\n",
    "print('\\nx shape: {}\\nx_ho shape:{}\\nx_t shape: {}'.format(x.shape, x_ho.shape, x_t.shape))"
   ]
  },
  {
   "cell_type": "code",
   "execution_count": 9,
   "metadata": {},
   "outputs": [
    {
     "name": "stdout",
     "output_type": "stream",
     "text": [
      "cluster ind: 24\n",
      "train cluster size: 91\n",
      "test cluster size: 172\n",
      "pois cluster size 150\n",
      "0 [-217.90741968  201.47937083]\n",
      "\n",
      "x coll shape: (24828, 256)\n",
      "x_att coll shape:(24828, 256)\n",
      "y coll shape: (24828,)\n"
     ]
    }
   ],
   "source": [
    "trn_inds = np.where(labels == cl_ind)[0]\n",
    "tst_inds = np.where(labels_t == cl_ind)[0]\n",
    "ho_inds = np.where(labels_ho == cl_ind)[0]\n",
    "pois_inds = np.random.choice(\n",
    "    ho_inds,\n",
    "    int(ho_inds.shape[0] * pois_rate),\n",
    "    replace=True\n",
    ")\n",
    "print(\"cluster ind:\", cl_ind)\n",
    "print(\"train cluster size:\", trn_inds.shape[0])\n",
    "print(\"test cluster size:\", tst_inds.shape[0])\n",
    "print(\"pois cluster size\", pois_inds.shape[0])\n",
    "trn_x = x\n",
    "trn_y = y\n",
    "trn_x_att = x_att\n",
    "\n",
    "preds_cl = preds_ho[ho_inds].sum(axis=0)\n",
    "assert preds_cl.size == 2\n",
    "\n",
    "worst_class = np.argmin(preds_cl)\n",
    "print(worst_class, preds_cl)\n",
    "\n",
    "pois_x = np.take(x_ho, pois_inds, axis=0)\n",
    "pois_y = np.take(y_ho, pois_inds, axis=0)\n",
    "pois_x_att = np.take(x_ho_att, pois_inds, axis=0)\n",
    "\n",
    "pois_y[:] = worst_class  # Assigns the worst class label to every poison point\n",
    "trn_x = np.concatenate((trn_x, pois_x))\n",
    "trn_y = np.concatenate((trn_y, pois_y))\n",
    "trn_x_att = np.concatenate((trn_x_att, pois_x_att))\n",
    "rand_inds = np.random.choice(trn_x.shape[0], trn_x.shape[0], replace=False)\n",
    "xt_p, xt_p_att, yt_p = x_t[tst_inds], x_t_att[tst_inds], y_t[tst_inds]\n",
    "\n",
    "# Create the subset of the test set not containing the targeted\n",
    "# sub population to compute the collateral damage\n",
    "x_coll = x_t[[i for i in range(x_t.shape[0]) if i not in tst_inds]]\n",
    "x_coll_att = x_t_att[[i for i in range(x_t_att.shape[0]) if i not in tst_inds]]\n",
    "y_coll = y_t[[i for i in range(y_t.shape[0]) if i not in tst_inds]]\n",
    "print('\\nx coll shape: {}\\nx_att coll shape:{}\\ny coll shape: {}'.format(\n",
    "    x_coll.shape, x_coll_att.shape, y_coll.shape))\n"
   ]
  },
  {
   "cell_type": "markdown",
   "metadata": {},
   "source": [
    "## Trim"
   ]
  },
  {
   "cell_type": "code",
   "execution_count": 10,
   "metadata": {},
   "outputs": [],
   "source": [
    "def trim(dataset, size, x, x_att, y, num_remove):\n",
    "    inds = []\n",
    "    new_inds = list(range(x.shape[0]))\n",
    "    it = 0\n",
    "    while sorted(new_inds) != sorted(inds) and it < 5:\n",
    "        print('Trim iteration: {}\\n'.format(it))\n",
    "        it += 1\n",
    "        inds = new_inds[:]\n",
    "        \n",
    "        # model = train_model(dataset, model_type, trn_x, trn_y, tst_x, tst_y)  \n",
    "        model = bert_utils.wrap_train(\n",
    "            x,\n",
    "            y,\n",
    "            x_att,\n",
    "            b_size=batch,\n",
    "            lr=lr,\n",
    "            epochs=epochs,\n",
    "            frozen=frozen\n",
    "        ) \n",
    "        \n",
    "        # Prepare torch loader\n",
    "        device = bert_utils.get_device()\n",
    "\n",
    "        test_ds = TensorDataset(\n",
    "            torch.from_numpy(x),\n",
    "            torch.from_numpy(x_att),\n",
    "            torch.from_numpy(y)\n",
    "        )\n",
    "        test_dl = DataLoader(test_ds, shuffle=False, batch_size=batch)\n",
    "         \n",
    "        # preds = model.predict(x)\n",
    "        _, preds_raw = bert_utils.predict_bert(model, device, test_dl, raw=True)\n",
    "        preds = [np.array(p) for p in preds_raw]\n",
    "        preds = np.concatenate(preds)\n",
    "        \n",
    "        # One hot encode labels\n",
    "        onehoty = OneHotEncoder().fit_transform(y.reshape(-1, 1)).toarray()\n",
    "        \n",
    "        probs = np.multiply(preds, onehoty).sum(axis=1)\n",
    "        new_inds = np.argpartition(probs, num_remove)[num_remove:]\n",
    "    return model, new_inds"
   ]
  },
  {
   "cell_type": "code",
   "execution_count": 11,
   "metadata": {
    "scrolled": true
   },
   "outputs": [
    {
     "name": "stdout",
     "output_type": "stream",
     "text": [
      "Trim iteration: 0\n",
      "\n",
      "Available device:  cuda\n"
     ]
    },
    {
     "name": "stderr",
     "output_type": "stream",
     "text": [
      "  0%|          | 1/3163 [00:00<08:56,  5.89it/s]"
     ]
    },
    {
     "name": "stdout",
     "output_type": "stream",
     "text": [
      "Epoch 0 of 4\n"
     ]
    },
    {
     "name": "stderr",
     "output_type": "stream",
     "text": [
      "100%|██████████| 3163/3163 [07:16<00:00,  7.25it/s]\n"
     ]
    },
    {
     "name": "stdout",
     "output_type": "stream",
     "text": [
      "Train loss at epoch 0: 0.3250975497314307\n"
     ]
    },
    {
     "name": "stderr",
     "output_type": "stream",
     "text": [
      "  0%|          | 1/3163 [00:00<07:23,  7.13it/s]"
     ]
    },
    {
     "name": "stdout",
     "output_type": "stream",
     "text": [
      "Training accuracy - epoch 0: 0.9419854568447676\n",
      "Epoch 1 of 4\n"
     ]
    },
    {
     "name": "stderr",
     "output_type": "stream",
     "text": [
      "100%|██████████| 3163/3163 [07:19<00:00,  7.19it/s]\n"
     ]
    },
    {
     "name": "stdout",
     "output_type": "stream",
     "text": [
      "Train loss at epoch 1: 0.171051897117977\n"
     ]
    },
    {
     "name": "stderr",
     "output_type": "stream",
     "text": [
      "  0%|          | 1/3163 [00:00<07:24,  7.11it/s]"
     ]
    },
    {
     "name": "stdout",
     "output_type": "stream",
     "text": [
      "Training accuracy - epoch 1: 0.9840341447992412\n",
      "Epoch 2 of 4\n"
     ]
    },
    {
     "name": "stderr",
     "output_type": "stream",
     "text": [
      "100%|██████████| 3163/3163 [07:19<00:00,  7.19it/s]\n"
     ]
    },
    {
     "name": "stdout",
     "output_type": "stream",
     "text": [
      "Train loss at epoch 2: 0.07419686062527049\n"
     ]
    },
    {
     "name": "stderr",
     "output_type": "stream",
     "text": [
      "  0%|          | 1/3163 [00:00<07:23,  7.13it/s]"
     ]
    },
    {
     "name": "stdout",
     "output_type": "stream",
     "text": [
      "Training accuracy - epoch 2: 0.9923332279481505\n",
      "Epoch 3 of 4\n"
     ]
    },
    {
     "name": "stderr",
     "output_type": "stream",
     "text": [
      "100%|██████████| 3163/3163 [07:19<00:00,  7.19it/s]\n"
     ]
    },
    {
     "name": "stdout",
     "output_type": "stream",
     "text": [
      "Train loss at epoch 3: 0.03462519426719697\n",
      "Training accuracy - epoch 3: 0.996127094530509\n"
     ]
    },
    {
     "name": "stderr",
     "output_type": "stream",
     "text": [
      "  0%|          | 3/3163 [00:00<02:10, 24.22it/s]"
     ]
    },
    {
     "name": "stdout",
     "output_type": "stream",
     "text": [
      "Available device:  cuda\n"
     ]
    },
    {
     "name": "stderr",
     "output_type": "stream",
     "text": [
      "100%|██████████| 3163/3163 [02:09<00:00, 24.37it/s]\n"
     ]
    },
    {
     "name": "stdout",
     "output_type": "stream",
     "text": [
      "Trim iteration: 1\n",
      "\n",
      "Available device:  cuda\n"
     ]
    },
    {
     "name": "stderr",
     "output_type": "stream",
     "text": [
      "  0%|          | 1/3163 [00:00<08:17,  6.36it/s]"
     ]
    },
    {
     "name": "stdout",
     "output_type": "stream",
     "text": [
      "Epoch 0 of 4\n"
     ]
    },
    {
     "name": "stderr",
     "output_type": "stream",
     "text": [
      "100%|██████████| 3163/3163 [07:20<00:00,  7.19it/s]\n"
     ]
    },
    {
     "name": "stdout",
     "output_type": "stream",
     "text": [
      "Train loss at epoch 0: 0.3246959502320858\n"
     ]
    },
    {
     "name": "stderr",
     "output_type": "stream",
     "text": [
      "  0%|          | 1/3163 [00:00<07:22,  7.14it/s]"
     ]
    },
    {
     "name": "stdout",
     "output_type": "stream",
     "text": [
      "Training accuracy - epoch 0: 0.9358994625355676\n",
      "Epoch 1 of 4\n"
     ]
    },
    {
     "name": "stderr",
     "output_type": "stream",
     "text": [
      "100%|██████████| 3163/3163 [07:20<00:00,  7.19it/s]\n"
     ]
    },
    {
     "name": "stdout",
     "output_type": "stream",
     "text": [
      "Train loss at epoch 1: 0.16101738535883003\n"
     ]
    },
    {
     "name": "stderr",
     "output_type": "stream",
     "text": [
      "  0%|          | 1/3163 [00:00<07:21,  7.15it/s]"
     ]
    },
    {
     "name": "stdout",
     "output_type": "stream",
     "text": [
      "Training accuracy - epoch 1: 0.9838760670249763\n",
      "Epoch 2 of 4\n"
     ]
    },
    {
     "name": "stderr",
     "output_type": "stream",
     "text": [
      "100%|██████████| 3163/3163 [07:20<00:00,  7.19it/s]\n"
     ]
    },
    {
     "name": "stdout",
     "output_type": "stream",
     "text": [
      "Train loss at epoch 2: 0.0689005431399065\n"
     ]
    },
    {
     "name": "stderr",
     "output_type": "stream",
     "text": [
      "  0%|          | 1/3163 [00:00<07:23,  7.14it/s]"
     ]
    },
    {
     "name": "stdout",
     "output_type": "stream",
     "text": [
      "Training accuracy - epoch 2: 0.9952576667720519\n",
      "Epoch 3 of 4\n"
     ]
    },
    {
     "name": "stderr",
     "output_type": "stream",
     "text": [
      "100%|██████████| 3163/3163 [07:20<00:00,  7.19it/s]\n"
     ]
    },
    {
     "name": "stdout",
     "output_type": "stream",
     "text": [
      "Train loss at epoch 3: 0.029620365947814746\n",
      "Training accuracy - epoch 3: 0.997312677837496\n"
     ]
    },
    {
     "name": "stderr",
     "output_type": "stream",
     "text": [
      "  0%|          | 3/3163 [00:00<02:15, 23.29it/s]"
     ]
    },
    {
     "name": "stdout",
     "output_type": "stream",
     "text": [
      "Available device:  cuda\n"
     ]
    },
    {
     "name": "stderr",
     "output_type": "stream",
     "text": [
      "100%|██████████| 3163/3163 [02:09<00:00, 24.37it/s]\n"
     ]
    },
    {
     "name": "stdout",
     "output_type": "stream",
     "text": [
      "Trim iteration: 2\n",
      "\n",
      "Available device:  cuda\n"
     ]
    },
    {
     "name": "stderr",
     "output_type": "stream",
     "text": [
      "  0%|          | 1/3163 [00:00<07:43,  6.83it/s]"
     ]
    },
    {
     "name": "stdout",
     "output_type": "stream",
     "text": [
      "Epoch 0 of 4\n"
     ]
    },
    {
     "name": "stderr",
     "output_type": "stream",
     "text": [
      "100%|██████████| 3163/3163 [07:20<00:00,  7.19it/s]\n"
     ]
    },
    {
     "name": "stdout",
     "output_type": "stream",
     "text": [
      "Train loss at epoch 0: 0.32547516889759454\n"
     ]
    },
    {
     "name": "stderr",
     "output_type": "stream",
     "text": [
      "  0%|          | 1/3163 [00:00<07:21,  7.16it/s]"
     ]
    },
    {
     "name": "stdout",
     "output_type": "stream",
     "text": [
      "Training accuracy - epoch 0: 0.9490199177995574\n",
      "Epoch 1 of 4\n"
     ]
    },
    {
     "name": "stderr",
     "output_type": "stream",
     "text": [
      "100%|██████████| 3163/3163 [07:20<00:00,  7.19it/s]\n"
     ]
    },
    {
     "name": "stdout",
     "output_type": "stream",
     "text": [
      "Train loss at epoch 1: 0.15859150058326937\n"
     ]
    },
    {
     "name": "stderr",
     "output_type": "stream",
     "text": [
      "  0%|          | 1/3163 [00:00<07:21,  7.16it/s]"
     ]
    },
    {
     "name": "stdout",
     "output_type": "stream",
     "text": [
      "Training accuracy - epoch 1: 0.9812677837496048\n",
      "Epoch 2 of 4\n"
     ]
    },
    {
     "name": "stderr",
     "output_type": "stream",
     "text": [
      "100%|██████████| 3163/3163 [07:20<00:00,  7.19it/s]\n"
     ]
    },
    {
     "name": "stdout",
     "output_type": "stream",
     "text": [
      "Train loss at epoch 2: 0.07143887222859063\n"
     ]
    },
    {
     "name": "stderr",
     "output_type": "stream",
     "text": [
      "  0%|          | 1/3163 [00:00<07:24,  7.12it/s]"
     ]
    },
    {
     "name": "stdout",
     "output_type": "stream",
     "text": [
      "Training accuracy - epoch 2: 0.9943092001264622\n",
      "Epoch 3 of 4\n"
     ]
    },
    {
     "name": "stderr",
     "output_type": "stream",
     "text": [
      "100%|██████████| 3163/3163 [07:20<00:00,  7.18it/s]\n"
     ]
    },
    {
     "name": "stdout",
     "output_type": "stream",
     "text": [
      "Train loss at epoch 3: 0.03253838091080527\n",
      "Training accuracy - epoch 3: 0.9969965222889662\n"
     ]
    },
    {
     "name": "stderr",
     "output_type": "stream",
     "text": [
      "  0%|          | 3/3163 [00:00<02:12, 23.89it/s]"
     ]
    },
    {
     "name": "stdout",
     "output_type": "stream",
     "text": [
      "Available device:  cuda\n"
     ]
    },
    {
     "name": "stderr",
     "output_type": "stream",
     "text": [
      "100%|██████████| 3163/3163 [02:09<00:00, 24.37it/s]\n"
     ]
    },
    {
     "name": "stdout",
     "output_type": "stream",
     "text": [
      "Trim iteration: 3\n",
      "\n",
      "Available device:  cuda\n"
     ]
    },
    {
     "name": "stderr",
     "output_type": "stream",
     "text": [
      "  0%|          | 1/3163 [00:00<08:12,  6.42it/s]"
     ]
    },
    {
     "name": "stdout",
     "output_type": "stream",
     "text": [
      "Epoch 0 of 4\n"
     ]
    },
    {
     "name": "stderr",
     "output_type": "stream",
     "text": [
      "100%|██████████| 3163/3163 [07:20<00:00,  7.19it/s]\n"
     ]
    },
    {
     "name": "stdout",
     "output_type": "stream",
     "text": [
      "Train loss at epoch 0: 0.31342821884364447\n"
     ]
    },
    {
     "name": "stderr",
     "output_type": "stream",
     "text": [
      "  0%|          | 1/3163 [00:00<07:22,  7.15it/s]"
     ]
    },
    {
     "name": "stdout",
     "output_type": "stream",
     "text": [
      "Training accuracy - epoch 0: 0.9485456844767626\n",
      "Epoch 1 of 4\n"
     ]
    },
    {
     "name": "stderr",
     "output_type": "stream",
     "text": [
      "100%|██████████| 3163/3163 [07:20<00:00,  7.19it/s]\n"
     ]
    },
    {
     "name": "stdout",
     "output_type": "stream",
     "text": [
      "Train loss at epoch 1: 0.15425233640909722\n"
     ]
    },
    {
     "name": "stderr",
     "output_type": "stream",
     "text": [
      "  0%|          | 1/3163 [00:00<07:22,  7.14it/s]"
     ]
    },
    {
     "name": "stdout",
     "output_type": "stream",
     "text": [
      "Training accuracy - epoch 1: 0.987037622510275\n",
      "Epoch 2 of 4\n"
     ]
    },
    {
     "name": "stderr",
     "output_type": "stream",
     "text": [
      "100%|██████████| 3163/3163 [07:20<00:00,  7.19it/s]\n"
     ]
    },
    {
     "name": "stdout",
     "output_type": "stream",
     "text": [
      "Train loss at epoch 2: 0.06681471246633582\n"
     ]
    },
    {
     "name": "stderr",
     "output_type": "stream",
     "text": [
      "  0%|          | 1/3163 [00:00<07:22,  7.14it/s]"
     ]
    },
    {
     "name": "stdout",
     "output_type": "stream",
     "text": [
      "Training accuracy - epoch 2: 0.995969016756244\n",
      "Epoch 3 of 4\n"
     ]
    },
    {
     "name": "stderr",
     "output_type": "stream",
     "text": [
      "100%|██████████| 3163/3163 [07:20<00:00,  7.19it/s]\n"
     ]
    },
    {
     "name": "stdout",
     "output_type": "stream",
     "text": [
      "Train loss at epoch 3: 0.029407813678690803\n",
      "Training accuracy - epoch 3: 0.9973917167246286\n"
     ]
    },
    {
     "name": "stderr",
     "output_type": "stream",
     "text": [
      "  0%|          | 3/3163 [00:00<02:10, 24.25it/s]"
     ]
    },
    {
     "name": "stdout",
     "output_type": "stream",
     "text": [
      "Available device:  cuda\n"
     ]
    },
    {
     "name": "stderr",
     "output_type": "stream",
     "text": [
      "100%|██████████| 3163/3163 [02:09<00:00, 24.49it/s]\n"
     ]
    },
    {
     "name": "stdout",
     "output_type": "stream",
     "text": [
      "Trim iteration: 4\n",
      "\n",
      "Available device:  cuda\n"
     ]
    },
    {
     "name": "stderr",
     "output_type": "stream",
     "text": [
      "  0%|          | 1/3163 [00:00<08:07,  6.49it/s]"
     ]
    },
    {
     "name": "stdout",
     "output_type": "stream",
     "text": [
      "Epoch 0 of 4\n"
     ]
    },
    {
     "name": "stderr",
     "output_type": "stream",
     "text": [
      "100%|██████████| 3163/3163 [07:19<00:00,  7.20it/s]\n"
     ]
    },
    {
     "name": "stdout",
     "output_type": "stream",
     "text": [
      "Train loss at epoch 0: 0.3295134382815328\n"
     ]
    },
    {
     "name": "stderr",
     "output_type": "stream",
     "text": [
      "  0%|          | 1/3163 [00:00<07:21,  7.16it/s]"
     ]
    },
    {
     "name": "stdout",
     "output_type": "stream",
     "text": [
      "Training accuracy - epoch 0: 0.9494941511223522\n",
      "Epoch 1 of 4\n"
     ]
    },
    {
     "name": "stderr",
     "output_type": "stream",
     "text": [
      "100%|██████████| 3163/3163 [07:20<00:00,  7.19it/s]\n"
     ]
    },
    {
     "name": "stdout",
     "output_type": "stream",
     "text": [
      "Train loss at epoch 1: 0.16492453182644382\n"
     ]
    },
    {
     "name": "stderr",
     "output_type": "stream",
     "text": [
      "  0%|          | 1/3163 [00:00<07:21,  7.16it/s]"
     ]
    },
    {
     "name": "stdout",
     "output_type": "stream",
     "text": [
      "Training accuracy - epoch 1: 0.9793708504584255\n",
      "Epoch 2 of 4\n"
     ]
    },
    {
     "name": "stderr",
     "output_type": "stream",
     "text": [
      "100%|██████████| 3163/3163 [07:19<00:00,  7.19it/s]\n"
     ]
    },
    {
     "name": "stdout",
     "output_type": "stream",
     "text": [
      "Train loss at epoch 2: 0.07636288753932992\n"
     ]
    },
    {
     "name": "stderr",
     "output_type": "stream",
     "text": [
      "  0%|          | 1/3163 [00:00<07:22,  7.14it/s]"
     ]
    },
    {
     "name": "stdout",
     "output_type": "stream",
     "text": [
      "Training accuracy - epoch 2: 0.9930445779323427\n",
      "Epoch 3 of 4\n"
     ]
    },
    {
     "name": "stderr",
     "output_type": "stream",
     "text": [
      "100%|██████████| 3163/3163 [07:19<00:00,  7.19it/s]\n"
     ]
    },
    {
     "name": "stdout",
     "output_type": "stream",
     "text": [
      "Train loss at epoch 3: 0.03446474073762725\n",
      "Training accuracy - epoch 3: 0.9960480556433765\n"
     ]
    },
    {
     "name": "stderr",
     "output_type": "stream",
     "text": [
      "  0%|          | 3/3163 [00:00<02:08, 24.61it/s]"
     ]
    },
    {
     "name": "stdout",
     "output_type": "stream",
     "text": [
      "Available device:  cuda\n"
     ]
    },
    {
     "name": "stderr",
     "output_type": "stream",
     "text": [
      "100%|██████████| 3163/3163 [02:09<00:00, 24.37it/s]"
     ]
    },
    {
     "name": "stdout",
     "output_type": "stream",
     "text": [
      "CPU times: user 3h 20min 53s, sys: 13 s, total: 3h 21min 6s\n",
      "Wall time: 3h 20min 50s\n"
     ]
    },
    {
     "name": "stderr",
     "output_type": "stream",
     "text": [
      "\n"
     ]
    }
   ],
   "source": [
    "%%time\n",
    "trim_model, trim_inds = trim(\n",
    "    dataset='imdb',\n",
    "    size=256,\n",
    "    x=trn_x[rand_inds],\n",
    "    x_att=trn_x_att[rand_inds],\n",
    "    y=trn_y[rand_inds],\n",
    "    num_remove=n_remove\n",
    ")"
   ]
  },
  {
   "cell_type": "code",
   "execution_count": 12,
   "metadata": {},
   "outputs": [
    {
     "name": "stdout",
     "output_type": "stream",
     "text": [
      "imdb_bert_FT_TRM_pois2.0_ind24\n"
     ]
    }
   ],
   "source": [
    "# Save trim model\n",
    "save_pth = 'imdb_bert_{}_TRM_pois{}_ind{}'.format(m_type, pois_rate, cl_ind)\n",
    "print(save_pth)\n",
    "\n",
    "torch.save(trim_model.state_dict(), save_pth + '.ckpt')"
   ]
  },
  {
   "cell_type": "code",
   "execution_count": 13,
   "metadata": {},
   "outputs": [],
   "source": [
    "# Evaluation\n",
    "\n",
    "pois_ds = TensorDataset(\n",
    "    torch.from_numpy(xt_p),\n",
    "    torch.from_numpy(xt_p_att),\n",
    "    torch.from_numpy(yt_p)\n",
    ")\n",
    "\n",
    "pois_dl = DataLoader(pois_ds, shuffle=False, batch_size=batch)"
   ]
  },
  {
   "cell_type": "code",
   "execution_count": 14,
   "metadata": {},
   "outputs": [
    {
     "name": "stderr",
     "output_type": "stream",
     "text": [
      "100%|██████████| 43/43 [00:01<00:00, 24.46it/s]\n"
     ]
    }
   ],
   "source": [
    "trim_acc = bert_utils.predict_bert(trim_model, device, pois_dl, acc=True)"
   ]
  },
  {
   "cell_type": "code",
   "execution_count": 15,
   "metadata": {},
   "outputs": [
    {
     "name": "stdout",
     "output_type": "stream",
     "text": [
      "Accuracy of Trim model on the poisoned data: 0.5697674418604651\n"
     ]
    }
   ],
   "source": [
    "print('Accuracy of Trim model on the poisoned data: {}'.format(trim_acc))"
   ]
  },
  {
   "cell_type": "code",
   "execution_count": 16,
   "metadata": {},
   "outputs": [
    {
     "name": "stdout",
     "output_type": "stream",
     "text": [
      "New targeted damage: 0.4186045581395349\n"
     ]
    }
   ],
   "source": [
    "print('New targeted damage: {}'.format(base_def - trim_acc))"
   ]
  }
 ],
 "metadata": {
  "kernelspec": {
   "display_name": "Python 3",
   "language": "python",
   "name": "python3"
  },
  "language_info": {
   "codemirror_mode": {
    "name": "ipython",
    "version": 3
   },
   "file_extension": ".py",
   "mimetype": "text/x-python",
   "name": "python",
   "nbconvert_exporter": "python",
   "pygments_lexer": "ipython3",
   "version": "3.7.5"
  }
 },
 "nbformat": 4,
 "nbformat_minor": 4
}
