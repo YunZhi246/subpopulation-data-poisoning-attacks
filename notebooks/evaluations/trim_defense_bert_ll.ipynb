{
 "cells": [
  {
   "cell_type": "code",
   "execution_count": 1,
   "metadata": {},
   "outputs": [],
   "source": [
    "%load_ext autoreload\n",
    "%autoreload 2"
   ]
  },
  {
   "cell_type": "code",
   "execution_count": 2,
   "metadata": {},
   "outputs": [],
   "source": [
    "import os"
   ]
  },
  {
   "cell_type": "code",
   "execution_count": 3,
   "metadata": {},
   "outputs": [],
   "source": [
    "os.chdir('../../')\n",
    "os.environ['ML_DATA'] = ''"
   ]
  },
  {
   "cell_type": "code",
   "execution_count": 4,
   "metadata": {},
   "outputs": [],
   "source": [
    "import torch\n",
    "import numpy as np\n",
    "import pandas as pd\n",
    "\n",
    "from tqdm.auto import tqdm\n",
    "from sklearn.preprocessing import OneHotEncoder\n",
    "from torch.utils.data import TensorDataset, DataLoader\n",
    "\n",
    "from attack_nlp import init_cluster_attack\n",
    "from subclass_avail.target_nlp import bert_utils"
   ]
  },
  {
   "cell_type": "code",
   "execution_count": 21,
   "metadata": {},
   "outputs": [],
   "source": [
    "# Constants\n",
    "\n",
    "seed = 42\n",
    "batch = 4\n",
    "lr = 1e-5\n",
    "epochs = 4\n",
    "\n",
    "# Run specific parameters\n",
    "pois_rate = 2.0\n",
    "cl_ind = 83\n",
    "n_remove = 570\n",
    "base_def = 0.798198\n",
    "\n",
    "m_type = 'LL'\n",
    "frozen = True"
   ]
  },
  {
   "cell_type": "code",
   "execution_count": 6,
   "metadata": {},
   "outputs": [
    {
     "name": "stdout",
     "output_type": "stream",
     "text": [
      "Available device:  cuda\n"
     ]
    }
   ],
   "source": [
    "device = bert_utils.get_device()\n",
    "bert_utils.set_seed(device, seed=seed)  # Seed all the PRNGs"
   ]
  },
  {
   "cell_type": "markdown",
   "metadata": {},
   "source": [
    "## Clustering"
   ]
  },
  {
   "cell_type": "code",
   "execution_count": 7,
   "metadata": {},
   "outputs": [
    {
     "name": "stdout",
     "output_type": "stream",
     "text": [
      "Available device:  cuda\n",
      "Loading model: imdb_bert_LL_ADV.ckpt\n",
      "Splitting data sets for training.\n",
      "Data shapes:\n",
      "ids_train: 12500\n",
      "att_train: 12500\n",
      "y_train: 12500\n",
      "ids_test: 25000\n",
      "att_test: 25000\n",
      "y_test: 25000\n"
     ]
    },
    {
     "name": "stderr",
     "output_type": "stream",
     "text": [
      "\r",
      "  0%|          | 0/3125 [00:00<?, ?it/s]"
     ]
    },
    {
     "name": "stdout",
     "output_type": "stream",
     "text": [
      "Tensors shapes:\n",
      "ids_train: torch.Size([12500, 256])\n",
      "att_train: torch.Size([12500, 256])\n",
      "y_train: torch.Size([12500])\n",
      "ids_test: torch.Size([25000, 256])\n",
      "att_test: torch.Size([25000, 256])\n",
      "y_test: torch.Size([25000])\n",
      "Data shapes:\n",
      "ids_train: 12500\n",
      "att_train: 12500\n",
      "y_train: 12500\n",
      "ids_test: 25000\n",
      "att_test: 25000\n",
      "y_test: 25000\n",
      "Tensors shapes:\n",
      "ids_train: torch.Size([12500, 256])\n",
      "att_train: torch.Size([12500, 256])\n",
      "y_train: torch.Size([12500])\n",
      "ids_test: torch.Size([25000, 256])\n",
      "att_test: torch.Size([25000, 256])\n",
      "y_test: torch.Size([25000])\n",
      "\n",
      "Getting def train representations\n",
      "Available device:  cuda\n",
      "Representation size:(12500, 256, 768)\n",
      "\n",
      "Getting adv train representations\n",
      "Available device:  cuda\n",
      "Representation size:(12500, 256, 768)\n",
      "\n",
      "Getting test representations\n",
      "Available device:  cuda\n",
      "Representation size:(25000, 256, 768)\n",
      "\n",
      "Computing predictions on the training sets\n"
     ]
    },
    {
     "name": "stderr",
     "output_type": "stream",
     "text": [
      "100%|██████████| 3125/3125 [02:06<00:00, 24.76it/s]\n",
      "100%|██████████| 3125/3125 [02:07<00:00, 24.49it/s]\n"
     ]
    },
    {
     "name": "stdout",
     "output_type": "stream",
     "text": [
      "\n",
      "Shapes\n",
      "\tll: (12500, 196608)\n",
      "\tll_ho: (12500, 196608)\n",
      "\tll_t: (25000, 196608)\n",
      "\n",
      "Clustering ll_ho\n",
      "\n",
      "Clustering ll_t\n",
      "\n",
      "Clustering ll\n",
      "CPU times: user 9min 59s, sys: 58 s, total: 10min 57s\n",
      "Wall time: 8min 35s\n"
     ]
    }
   ],
   "source": [
    "%%time\n",
    "(x, y, ll, labels, preds), \\\n",
    "(x_ho, y_ho, ll_ho, labels_ho, preds_ho), \\\n",
    "(x_t, y_t, ll_t, labels_t) = init_cluster_attack(frozen=frozen, n_clusters=100, pca_dim=10)"
   ]
  },
  {
   "cell_type": "code",
   "execution_count": 8,
   "metadata": {},
   "outputs": [
    {
     "name": "stdout",
     "output_type": "stream",
     "text": [
      "labels distr (array([ 0,  1,  2,  3,  4,  5,  6,  7,  8,  9, 10, 11, 12, 13, 14, 15, 16,\n",
      "       17, 18, 19, 20, 21, 22, 23, 24, 25, 26, 27, 28, 29, 30, 31, 32, 33,\n",
      "       34, 35, 36, 37, 38, 39, 40, 41, 42, 43, 44, 45, 46, 47, 48, 49, 50,\n",
      "       51, 52, 53, 54, 55, 56, 57, 58, 59, 60, 61, 62, 63, 64, 65, 66, 67,\n",
      "       68, 69, 70, 71, 72, 73, 74, 75, 76, 77, 78, 79, 80, 81, 82, 83, 84,\n",
      "       85, 86, 87, 88, 89, 90, 91, 92, 93, 94, 95, 96, 97, 98, 99],\n",
      "      dtype=int32), array([ 76, 326, 111,  83, 122, 115, 121,  82, 123,  91, 122,  96,  88,\n",
      "       239, 123, 307, 214,  70, 103,  50,  70,  96,  89,  38, 250,  94,\n",
      "        74,  50, 305, 123,  91, 191,  88,  47, 168, 100, 136, 110, 108,\n",
      "       391, 238,  84,  91,  31,  33,  43, 154, 291,  65,  47, 105,  83,\n",
      "        89,  62, 152,  56,  81,  98,  93, 199,  75, 132, 124, 189,  81,\n",
      "        75, 119, 244, 100,  96, 184,  94,  53,  85,  73, 365,  73,  57,\n",
      "        62, 102,  91,  96,  35, 292, 203, 197,  88, 121, 220,  43,  88,\n",
      "        66, 103,  92, 233, 392,  70,  90,  59, 162]))\n",
      "ho labels distr (array([ 0,  1,  2,  3,  4,  5,  6,  7,  8,  9, 10, 11, 12, 13, 14, 15, 16,\n",
      "       17, 18, 19, 20, 21, 22, 23, 24, 25, 26, 27, 28, 29, 30, 31, 32, 33,\n",
      "       34, 35, 36, 37, 38, 39, 40, 41, 42, 43, 44, 45, 46, 47, 48, 49, 50,\n",
      "       51, 52, 53, 54, 55, 56, 57, 58, 59, 60, 61, 62, 63, 64, 65, 66, 67,\n",
      "       68, 69, 70, 71, 72, 73, 74, 75, 76, 77, 78, 79, 80, 81, 82, 83, 84,\n",
      "       85, 86, 87, 88, 89, 90, 91, 92, 93, 94, 95, 96, 97, 98, 99],\n",
      "      dtype=int32), array([ 89, 321, 121,  92,  83,  90, 132,  66, 121,  99, 128,  89,  97,\n",
      "       266, 106, 313, 254,  65, 103,  46,  83, 103,  98,  42, 250,  95,\n",
      "        86,  58, 313, 121,  98, 202,  88,  65, 203, 109, 108, 107,  99,\n",
      "       353, 237,  92,  82,  40,  31,  51, 168, 301,  65,  61, 123, 100,\n",
      "        93,  50, 125,  50,  74, 107,  87, 233,  65, 123, 113, 210,  90,\n",
      "        71, 115, 247, 102,  89, 173, 109,  49,  84,  77, 322,  80,  56,\n",
      "        71, 114, 112,  74,  47, 285, 183, 178, 112, 130, 232,  38,  84,\n",
      "        50,  95,  83, 200, 325,  75,  93,  75, 137]))\n",
      "test distr (array([ 0,  1,  2,  3,  4,  5,  6,  7,  8,  9, 10, 11, 12, 13, 14, 15, 16,\n",
      "       17, 18, 19, 20, 21, 22, 23, 24, 25, 26, 27, 28, 29, 30, 31, 32, 33,\n",
      "       34, 35, 36, 37, 38, 39, 40, 41, 42, 43, 44, 45, 46, 47, 48, 49, 50,\n",
      "       51, 52, 53, 54, 55, 56, 57, 58, 59, 60, 61, 62, 63, 64, 65, 66, 67,\n",
      "       68, 69, 70, 71, 72, 73, 74, 75, 76, 77, 78, 79, 80, 81, 82, 83, 84,\n",
      "       85, 86, 87, 88, 89, 90, 91, 92, 93, 94, 95, 96, 97, 98, 99],\n",
      "      dtype=int32), array([168, 631, 292, 173, 218, 225, 240, 148, 259, 259, 262, 173, 153,\n",
      "       494, 246, 603, 435, 139, 225,  96, 131, 196, 211,  79, 483, 193,\n",
      "       174, 106, 624, 250, 172, 387, 204,  94, 344, 234, 242, 213, 231,\n",
      "       729, 426, 192, 175,  71,  60, 100, 314, 520, 126, 101, 222, 164,\n",
      "       200, 129, 288, 127, 172, 188, 223, 454, 143, 230, 231, 404, 143,\n",
      "       115, 145, 490, 209, 185, 327, 182, 102, 179, 182, 659, 188, 127,\n",
      "       158, 203, 216, 195,  93, 555, 395, 410, 195, 257, 473,  60, 163,\n",
      "        98, 174, 186, 433, 741, 159, 182, 131, 294]))\n",
      "\n",
      "x shape: (12500, 256)\n",
      "x_ho shape:(12500, 256)\n",
      "x_t shape: (25000, 256)\n"
     ]
    }
   ],
   "source": [
    "x, x_att = x\n",
    "x_ho, x_ho_att = x_ho\n",
    "x_t, x_t_att = x_t\n",
    "\n",
    "l_d = np.unique(labels, return_counts=True)\n",
    "lt_d = np.unique(labels_t, return_counts=True)\n",
    "lho_d = np.unique(labels_ho, return_counts=True)\n",
    "\n",
    "print(\"labels distr\", l_d)\n",
    "print(\"ho labels distr\", lho_d)\n",
    "print(\"test distr\", lt_d)\n",
    "print('\\nx shape: {}\\nx_ho shape:{}\\nx_t shape: {}'.format(x.shape, x_ho.shape, x_t.shape))"
   ]
  },
  {
   "cell_type": "code",
   "execution_count": 9,
   "metadata": {},
   "outputs": [
    {
     "name": "stdout",
     "output_type": "stream",
     "text": [
      "cluster ind: 83\n",
      "train cluster size: 292\n",
      "test cluster size: 555\n",
      "pois cluster size 570\n",
      "0 [-246.89210338  244.09095673]\n",
      "\n",
      "x coll shape: (24445, 256)\n",
      "x_att coll shape:(24445, 256)\n",
      "y coll shape: (24445,)\n"
     ]
    }
   ],
   "source": [
    "trn_inds = np.where(labels == cl_ind)[0]\n",
    "tst_inds = np.where(labels_t == cl_ind)[0]\n",
    "ho_inds = np.where(labels_ho == cl_ind)[0]\n",
    "pois_inds = np.random.choice(\n",
    "    ho_inds,\n",
    "    int(ho_inds.shape[0] * pois_rate),\n",
    "    replace=True\n",
    ")\n",
    "print(\"cluster ind:\", cl_ind)\n",
    "print(\"train cluster size:\", trn_inds.shape[0])\n",
    "print(\"test cluster size:\", tst_inds.shape[0])\n",
    "print(\"pois cluster size\", pois_inds.shape[0])\n",
    "trn_x = x\n",
    "trn_y = y\n",
    "trn_x_att = x_att\n",
    "\n",
    "preds_cl = preds_ho[ho_inds].sum(axis=0)\n",
    "assert preds_cl.size == 2\n",
    "\n",
    "worst_class = np.argmin(preds_cl)\n",
    "print(worst_class, preds_cl)\n",
    "\n",
    "pois_x = np.take(x_ho, pois_inds, axis=0)\n",
    "pois_y = np.take(y_ho, pois_inds, axis=0)\n",
    "pois_x_att = np.take(x_ho_att, pois_inds, axis=0)\n",
    "\n",
    "pois_y[:] = worst_class  # Assigns the worst class label to every poison point\n",
    "trn_x = np.concatenate((trn_x, pois_x))\n",
    "trn_y = np.concatenate((trn_y, pois_y))\n",
    "trn_x_att = np.concatenate((trn_x_att, pois_x_att))\n",
    "rand_inds = np.random.choice(trn_x.shape[0], trn_x.shape[0], replace=False)\n",
    "xt_p, xt_p_att, yt_p = x_t[tst_inds], x_t_att[tst_inds], y_t[tst_inds]\n",
    "\n",
    "# Create the subset of the test set not containing the targeted\n",
    "# sub population to compute the collateral damage\n",
    "x_coll = x_t[[i for i in range(x_t.shape[0]) if i not in tst_inds]]\n",
    "x_coll_att = x_t_att[[i for i in range(x_t_att.shape[0]) if i not in tst_inds]]\n",
    "y_coll = y_t[[i for i in range(y_t.shape[0]) if i not in tst_inds]]\n",
    "print('\\nx coll shape: {}\\nx_att coll shape:{}\\ny coll shape: {}'.format(\n",
    "    x_coll.shape, x_coll_att.shape, y_coll.shape))\n"
   ]
  },
  {
   "cell_type": "markdown",
   "metadata": {},
   "source": [
    "## Trim"
   ]
  },
  {
   "cell_type": "code",
   "execution_count": 10,
   "metadata": {},
   "outputs": [],
   "source": [
    "def trim(dataset, size, x, x_att, y, num_remove):\n",
    "    inds = []\n",
    "    new_inds = list(range(x.shape[0]))\n",
    "    it = 0\n",
    "    while sorted(new_inds) != sorted(inds) and it < 5:\n",
    "        print('Trim iteration: {}\\n'.format(it))\n",
    "        it += 1\n",
    "        inds = new_inds[:]\n",
    "        \n",
    "        # model = train_model(dataset, model_type, trn_x, trn_y, tst_x, tst_y)  \n",
    "        model = bert_utils.wrap_train(\n",
    "            x,\n",
    "            y,\n",
    "            x_att,\n",
    "            b_size=batch,\n",
    "            lr=lr,\n",
    "            epochs=epochs,\n",
    "            frozen=frozen\n",
    "        ) \n",
    "        \n",
    "        # Prepare torch loader\n",
    "        device = bert_utils.get_device()\n",
    "\n",
    "        test_ds = TensorDataset(\n",
    "            torch.from_numpy(x),\n",
    "            torch.from_numpy(x_att),\n",
    "            torch.from_numpy(y)\n",
    "        )\n",
    "        test_dl = DataLoader(test_ds, shuffle=False, batch_size=batch)\n",
    "         \n",
    "        # preds = model.predict(x)\n",
    "        _, preds_raw = bert_utils.predict_bert(model, device, test_dl, raw=True)\n",
    "        preds = [np.array(p) for p in preds_raw]\n",
    "        preds = np.concatenate(preds)\n",
    "        \n",
    "        # One hot encode labels\n",
    "        onehoty = OneHotEncoder().fit_transform(y.reshape(-1, 1)).toarray()\n",
    "        \n",
    "        probs = np.multiply(preds, onehoty).sum(axis=1)\n",
    "        new_inds = np.argpartition(probs, num_remove)[num_remove:]\n",
    "    return model, new_inds"
   ]
  },
  {
   "cell_type": "code",
   "execution_count": 11,
   "metadata": {
    "scrolled": true
   },
   "outputs": [
    {
     "name": "stdout",
     "output_type": "stream",
     "text": [
      "Trim iteration: 0\n",
      "\n",
      "Available device:  cuda\n"
     ]
    },
    {
     "name": "stderr",
     "output_type": "stream",
     "text": [
      "  0%|          | 2/3268 [00:00<04:00, 13.57it/s]"
     ]
    },
    {
     "name": "stdout",
     "output_type": "stream",
     "text": [
      "Epoch 0 of 4\n"
     ]
    },
    {
     "name": "stderr",
     "output_type": "stream",
     "text": [
      "100%|██████████| 3268/3268 [02:39<00:00, 20.53it/s]\n"
     ]
    },
    {
     "name": "stdout",
     "output_type": "stream",
     "text": [
      "Train loss at epoch 0: 0.4241396561264992\n"
     ]
    },
    {
     "name": "stderr",
     "output_type": "stream",
     "text": [
      "  0%|          | 3/3268 [00:00<02:42, 20.14it/s]"
     ]
    },
    {
     "name": "stdout",
     "output_type": "stream",
     "text": [
      "Training accuracy - epoch 0: 0.869109547123623\n",
      "Epoch 1 of 4\n"
     ]
    },
    {
     "name": "stderr",
     "output_type": "stream",
     "text": [
      "100%|██████████| 3268/3268 [02:41<00:00, 20.25it/s]\n"
     ]
    },
    {
     "name": "stdout",
     "output_type": "stream",
     "text": [
      "Train loss at epoch 1: 0.32278860398685627\n"
     ]
    },
    {
     "name": "stderr",
     "output_type": "stream",
     "text": [
      "  0%|          | 3/3268 [00:00<02:41, 20.22it/s]"
     ]
    },
    {
     "name": "stdout",
     "output_type": "stream",
     "text": [
      "Training accuracy - epoch 1: 0.8782129742962056\n",
      "Epoch 2 of 4\n"
     ]
    },
    {
     "name": "stderr",
     "output_type": "stream",
     "text": [
      "100%|██████████| 3268/3268 [02:41<00:00, 20.24it/s]\n"
     ]
    },
    {
     "name": "stdout",
     "output_type": "stream",
     "text": [
      "Train loss at epoch 2: 0.300854723779724\n"
     ]
    },
    {
     "name": "stderr",
     "output_type": "stream",
     "text": [
      "  0%|          | 3/3268 [00:00<02:41, 20.21it/s]"
     ]
    },
    {
     "name": "stdout",
     "output_type": "stream",
     "text": [
      "Training accuracy - epoch 2: 0.8851744186046512\n",
      "Epoch 3 of 4\n"
     ]
    },
    {
     "name": "stderr",
     "output_type": "stream",
     "text": [
      "100%|██████████| 3268/3268 [02:41<00:00, 20.22it/s]\n"
     ]
    },
    {
     "name": "stdout",
     "output_type": "stream",
     "text": [
      "Train loss at epoch 3: 0.28856570883728155\n",
      "Training accuracy - epoch 3: 0.8877753977968176\n"
     ]
    },
    {
     "name": "stderr",
     "output_type": "stream",
     "text": [
      "  0%|          | 3/3268 [00:00<02:18, 23.52it/s]"
     ]
    },
    {
     "name": "stdout",
     "output_type": "stream",
     "text": [
      "Available device:  cuda\n"
     ]
    },
    {
     "name": "stderr",
     "output_type": "stream",
     "text": [
      "100%|██████████| 3268/3268 [02:14<00:00, 24.36it/s]\n"
     ]
    },
    {
     "name": "stdout",
     "output_type": "stream",
     "text": [
      "Trim iteration: 1\n",
      "\n",
      "Available device:  cuda\n"
     ]
    },
    {
     "name": "stderr",
     "output_type": "stream",
     "text": [
      "  0%|          | 2/3268 [00:00<03:02, 17.94it/s]"
     ]
    },
    {
     "name": "stdout",
     "output_type": "stream",
     "text": [
      "Epoch 0 of 4\n"
     ]
    },
    {
     "name": "stderr",
     "output_type": "stream",
     "text": [
      "100%|██████████| 3268/3268 [02:41<00:00, 20.23it/s]\n"
     ]
    },
    {
     "name": "stdout",
     "output_type": "stream",
     "text": [
      "Train loss at epoch 0: 0.4162634725419114\n"
     ]
    },
    {
     "name": "stderr",
     "output_type": "stream",
     "text": [
      "  0%|          | 3/3268 [00:00<02:42, 20.14it/s]"
     ]
    },
    {
     "name": "stdout",
     "output_type": "stream",
     "text": [
      "Training accuracy - epoch 0: 0.8671205630354957\n",
      "Epoch 1 of 4\n"
     ]
    },
    {
     "name": "stderr",
     "output_type": "stream",
     "text": [
      "100%|██████████| 3268/3268 [02:41<00:00, 20.24it/s]\n"
     ]
    },
    {
     "name": "stdout",
     "output_type": "stream",
     "text": [
      "Train loss at epoch 1: 0.32227662833341403\n"
     ]
    },
    {
     "name": "stderr",
     "output_type": "stream",
     "text": [
      "  0%|          | 3/3268 [00:00<02:41, 20.24it/s]"
     ]
    },
    {
     "name": "stdout",
     "output_type": "stream",
     "text": [
      "Training accuracy - epoch 1: 0.883032435740514\n",
      "Epoch 2 of 4\n"
     ]
    },
    {
     "name": "stderr",
     "output_type": "stream",
     "text": [
      "100%|██████████| 3268/3268 [02:41<00:00, 20.25it/s]\n"
     ]
    },
    {
     "name": "stdout",
     "output_type": "stream",
     "text": [
      "Train loss at epoch 2: 0.29984208012872915\n"
     ]
    },
    {
     "name": "stderr",
     "output_type": "stream",
     "text": [
      "  0%|          | 2/3268 [00:00<02:44, 19.81it/s]"
     ]
    },
    {
     "name": "stdout",
     "output_type": "stream",
     "text": [
      "Training accuracy - epoch 2: 0.887469400244798\n",
      "Epoch 3 of 4\n"
     ]
    },
    {
     "name": "stderr",
     "output_type": "stream",
     "text": [
      "100%|██████████| 3268/3268 [02:41<00:00, 20.23it/s]\n"
     ]
    },
    {
     "name": "stdout",
     "output_type": "stream",
     "text": [
      "Train loss at epoch 3: 0.28692913779503276\n",
      "Training accuracy - epoch 3: 0.8894583843329253\n"
     ]
    },
    {
     "name": "stderr",
     "output_type": "stream",
     "text": [
      "  0%|          | 3/3268 [00:00<02:15, 24.13it/s]"
     ]
    },
    {
     "name": "stdout",
     "output_type": "stream",
     "text": [
      "Available device:  cuda\n"
     ]
    },
    {
     "name": "stderr",
     "output_type": "stream",
     "text": [
      "100%|██████████| 3268/3268 [02:14<00:00, 24.37it/s]\n"
     ]
    },
    {
     "name": "stdout",
     "output_type": "stream",
     "text": [
      "Trim iteration: 2\n",
      "\n",
      "Available device:  cuda\n"
     ]
    },
    {
     "name": "stderr",
     "output_type": "stream",
     "text": [
      "  0%|          | 2/3268 [00:00<03:02, 17.85it/s]"
     ]
    },
    {
     "name": "stdout",
     "output_type": "stream",
     "text": [
      "Epoch 0 of 4\n"
     ]
    },
    {
     "name": "stderr",
     "output_type": "stream",
     "text": [
      "100%|██████████| 3268/3268 [02:41<00:00, 20.24it/s]\n"
     ]
    },
    {
     "name": "stdout",
     "output_type": "stream",
     "text": [
      "Train loss at epoch 0: 0.4157445433468648\n"
     ]
    },
    {
     "name": "stderr",
     "output_type": "stream",
     "text": [
      "  0%|          | 3/3268 [00:00<02:41, 20.22it/s]"
     ]
    },
    {
     "name": "stdout",
     "output_type": "stream",
     "text": [
      "Training accuracy - epoch 0: 0.8691860465116279\n",
      "Epoch 1 of 4\n"
     ]
    },
    {
     "name": "stderr",
     "output_type": "stream",
     "text": [
      "100%|██████████| 3268/3268 [02:41<00:00, 20.24it/s]\n"
     ]
    },
    {
     "name": "stdout",
     "output_type": "stream",
     "text": [
      "Train loss at epoch 1: 0.3217739228437332\n"
     ]
    },
    {
     "name": "stderr",
     "output_type": "stream",
     "text": [
      "  0%|          | 3/3268 [00:00<02:41, 20.24it/s]"
     ]
    },
    {
     "name": "stdout",
     "output_type": "stream",
     "text": [
      "Training accuracy - epoch 1: 0.8818084455324358\n",
      "Epoch 2 of 4\n"
     ]
    },
    {
     "name": "stderr",
     "output_type": "stream",
     "text": [
      "100%|██████████| 3268/3268 [02:41<00:00, 20.25it/s]\n"
     ]
    },
    {
     "name": "stdout",
     "output_type": "stream",
     "text": [
      "Train loss at epoch 2: 0.29875994682758866\n"
     ]
    },
    {
     "name": "stderr",
     "output_type": "stream",
     "text": [
      "  0%|          | 3/3268 [00:00<02:41, 20.21it/s]"
     ]
    },
    {
     "name": "stdout",
     "output_type": "stream",
     "text": [
      "Training accuracy - epoch 2: 0.8894583843329253\n",
      "Epoch 3 of 4\n"
     ]
    },
    {
     "name": "stderr",
     "output_type": "stream",
     "text": [
      "100%|██████████| 3268/3268 [02:41<00:00, 20.24it/s]\n"
     ]
    },
    {
     "name": "stdout",
     "output_type": "stream",
     "text": [
      "Train loss at epoch 3: 0.2871672276480436\n",
      "Training accuracy - epoch 3: 0.8901468788249693\n"
     ]
    },
    {
     "name": "stderr",
     "output_type": "stream",
     "text": [
      "  0%|          | 3/3268 [00:00<02:16, 23.95it/s]"
     ]
    },
    {
     "name": "stdout",
     "output_type": "stream",
     "text": [
      "Available device:  cuda\n"
     ]
    },
    {
     "name": "stderr",
     "output_type": "stream",
     "text": [
      "100%|██████████| 3268/3268 [02:14<00:00, 24.37it/s]\n"
     ]
    },
    {
     "name": "stdout",
     "output_type": "stream",
     "text": [
      "Trim iteration: 3\n",
      "\n",
      "Available device:  cuda\n"
     ]
    },
    {
     "name": "stderr",
     "output_type": "stream",
     "text": [
      "  0%|          | 2/3268 [00:00<03:03, 17.83it/s]"
     ]
    },
    {
     "name": "stdout",
     "output_type": "stream",
     "text": [
      "Epoch 0 of 4\n"
     ]
    },
    {
     "name": "stderr",
     "output_type": "stream",
     "text": [
      "100%|██████████| 3268/3268 [02:41<00:00, 20.25it/s]\n"
     ]
    },
    {
     "name": "stdout",
     "output_type": "stream",
     "text": [
      "Train loss at epoch 0: 0.42496615236983015\n"
     ]
    },
    {
     "name": "stderr",
     "output_type": "stream",
     "text": [
      "  0%|          | 3/3268 [00:00<02:41, 20.20it/s]"
     ]
    },
    {
     "name": "stdout",
     "output_type": "stream",
     "text": [
      "Training accuracy - epoch 0: 0.872016523867809\n",
      "Epoch 1 of 4\n"
     ]
    },
    {
     "name": "stderr",
     "output_type": "stream",
     "text": [
      "100%|██████████| 3268/3268 [02:41<00:00, 20.23it/s]\n"
     ]
    },
    {
     "name": "stdout",
     "output_type": "stream",
     "text": [
      "Train loss at epoch 1: 0.31725227409424295\n"
     ]
    },
    {
     "name": "stderr",
     "output_type": "stream",
     "text": [
      "  0%|          | 3/3268 [00:00<02:41, 20.21it/s]"
     ]
    },
    {
     "name": "stdout",
     "output_type": "stream",
     "text": [
      "Training accuracy - epoch 1: 0.8818849449204407\n",
      "Epoch 2 of 4\n"
     ]
    },
    {
     "name": "stderr",
     "output_type": "stream",
     "text": [
      "100%|██████████| 3268/3268 [02:41<00:00, 20.24it/s]\n"
     ]
    },
    {
     "name": "stdout",
     "output_type": "stream",
     "text": [
      "Train loss at epoch 2: 0.2984328561415725\n"
     ]
    },
    {
     "name": "stderr",
     "output_type": "stream",
     "text": [
      "  0%|          | 3/3268 [00:00<02:41, 20.23it/s]"
     ]
    },
    {
     "name": "stdout",
     "output_type": "stream",
     "text": [
      "Training accuracy - epoch 2: 0.8893053855569155\n",
      "Epoch 3 of 4\n"
     ]
    },
    {
     "name": "stderr",
     "output_type": "stream",
     "text": [
      "100%|██████████| 3268/3268 [02:41<00:00, 20.24it/s]\n"
     ]
    },
    {
     "name": "stdout",
     "output_type": "stream",
     "text": [
      "Train loss at epoch 3: 0.2861537959340007\n",
      "Training accuracy - epoch 3: 0.8905293757649939\n"
     ]
    },
    {
     "name": "stderr",
     "output_type": "stream",
     "text": [
      "  0%|          | 3/3268 [00:00<02:15, 24.12it/s]"
     ]
    },
    {
     "name": "stdout",
     "output_type": "stream",
     "text": [
      "Available device:  cuda\n"
     ]
    },
    {
     "name": "stderr",
     "output_type": "stream",
     "text": [
      "100%|██████████| 3268/3268 [02:14<00:00, 24.37it/s]\n"
     ]
    },
    {
     "name": "stdout",
     "output_type": "stream",
     "text": [
      "Trim iteration: 4\n",
      "\n",
      "Available device:  cuda\n"
     ]
    },
    {
     "name": "stderr",
     "output_type": "stream",
     "text": [
      "  0%|          | 2/3268 [00:00<03:03, 17.83it/s]"
     ]
    },
    {
     "name": "stdout",
     "output_type": "stream",
     "text": [
      "Epoch 0 of 4\n"
     ]
    },
    {
     "name": "stderr",
     "output_type": "stream",
     "text": [
      "100%|██████████| 3268/3268 [02:41<00:00, 20.25it/s]\n"
     ]
    },
    {
     "name": "stdout",
     "output_type": "stream",
     "text": [
      "Train loss at epoch 0: 0.4223953325716343\n"
     ]
    },
    {
     "name": "stderr",
     "output_type": "stream",
     "text": [
      "  0%|          | 3/3268 [00:00<02:41, 20.22it/s]"
     ]
    },
    {
     "name": "stdout",
     "output_type": "stream",
     "text": [
      "Training accuracy - epoch 0: 0.8667380660954712\n",
      "Epoch 1 of 4\n"
     ]
    },
    {
     "name": "stderr",
     "output_type": "stream",
     "text": [
      "100%|██████████| 3268/3268 [02:41<00:00, 20.24it/s]\n"
     ]
    },
    {
     "name": "stdout",
     "output_type": "stream",
     "text": [
      "Train loss at epoch 1: 0.3215417039182808\n"
     ]
    },
    {
     "name": "stderr",
     "output_type": "stream",
     "text": [
      "  0%|          | 3/3268 [00:00<02:41, 20.24it/s]"
     ]
    },
    {
     "name": "stdout",
     "output_type": "stream",
     "text": [
      "Training accuracy - epoch 1: 0.8792839657282742\n",
      "Epoch 2 of 4\n"
     ]
    },
    {
     "name": "stderr",
     "output_type": "stream",
     "text": [
      "100%|██████████| 3268/3268 [02:41<00:00, 20.24it/s]\n"
     ]
    },
    {
     "name": "stdout",
     "output_type": "stream",
     "text": [
      "Train loss at epoch 2: 0.3045097051559967\n"
     ]
    },
    {
     "name": "stderr",
     "output_type": "stream",
     "text": [
      "  0%|          | 3/3268 [00:00<02:41, 20.20it/s]"
     ]
    },
    {
     "name": "stdout",
     "output_type": "stream",
     "text": [
      "Training accuracy - epoch 2: 0.8863219094247246\n",
      "Epoch 3 of 4\n"
     ]
    },
    {
     "name": "stderr",
     "output_type": "stream",
     "text": [
      "100%|██████████| 3268/3268 [02:41<00:00, 20.25it/s]\n"
     ]
    },
    {
     "name": "stdout",
     "output_type": "stream",
     "text": [
      "Train loss at epoch 3: 0.29058200092085684\n",
      "Training accuracy - epoch 3: 0.8896113831089352\n"
     ]
    },
    {
     "name": "stderr",
     "output_type": "stream",
     "text": [
      "  0%|          | 3/3268 [00:00<02:15, 24.12it/s]"
     ]
    },
    {
     "name": "stdout",
     "output_type": "stream",
     "text": [
      "Available device:  cuda\n"
     ]
    },
    {
     "name": "stderr",
     "output_type": "stream",
     "text": [
      "100%|██████████| 3268/3268 [02:14<00:00, 24.35it/s]"
     ]
    },
    {
     "name": "stdout",
     "output_type": "stream",
     "text": [
      "CPU times: user 1h 49min 41s, sys: 7.72 s, total: 1h 49min 49s\n",
      "Wall time: 1h 49min 47s\n"
     ]
    },
    {
     "name": "stderr",
     "output_type": "stream",
     "text": [
      "\n"
     ]
    }
   ],
   "source": [
    "%%time\n",
    "trim_model, trim_inds = trim(\n",
    "    dataset='imdb',\n",
    "    size=256,\n",
    "    x=trn_x[rand_inds],\n",
    "    x_att=trn_x_att[rand_inds],\n",
    "    y=trn_y[rand_inds],\n",
    "    num_remove=n_remove\n",
    ")"
   ]
  },
  {
   "cell_type": "code",
   "execution_count": 13,
   "metadata": {},
   "outputs": [
    {
     "name": "stdout",
     "output_type": "stream",
     "text": [
      "imdb_bert_LL_TRM_pois2.0_ind83\n"
     ]
    }
   ],
   "source": [
    "# Save trim model\n",
    "save_pth = 'imdb_bert_{}_TRM_pois{}_ind{}'.format(m_type, pois_rate, cl_ind)\n",
    "print(save_pth)\n",
    "\n",
    "torch.save(trim_model.state_dict(), save_pth + '.ckpt')"
   ]
  },
  {
   "cell_type": "code",
   "execution_count": 15,
   "metadata": {},
   "outputs": [],
   "source": [
    "# Evaluation\n",
    "\n",
    "pois_ds = TensorDataset(\n",
    "    torch.from_numpy(xt_p),\n",
    "    torch.from_numpy(xt_p_att),\n",
    "    torch.from_numpy(yt_p)\n",
    ")\n",
    "\n",
    "pois_dl = DataLoader(pois_ds, shuffle=False, batch_size=batch)"
   ]
  },
  {
   "cell_type": "code",
   "execution_count": 18,
   "metadata": {},
   "outputs": [
    {
     "name": "stderr",
     "output_type": "stream",
     "text": [
      "100%|██████████| 139/139 [00:05<00:00, 25.27it/s]\n"
     ]
    }
   ],
   "source": [
    "trim_acc = bert_utils.predict_bert(trim_model, device, pois_dl, acc=True)"
   ]
  },
  {
   "cell_type": "code",
   "execution_count": 19,
   "metadata": {},
   "outputs": [
    {
     "name": "stdout",
     "output_type": "stream",
     "text": [
      "Accuracy of Trim model on the poisoned data: 0.6882882882882883\n"
     ]
    }
   ],
   "source": [
    "print('Accuracy of Trim model on the poisoned data: {}'.format(trim_acc))"
   ]
  },
  {
   "cell_type": "code",
   "execution_count": 22,
   "metadata": {},
   "outputs": [
    {
     "name": "stdout",
     "output_type": "stream",
     "text": [
      "New targeted damage: 0.10990971171171171\n"
     ]
    }
   ],
   "source": [
    "print('New targeted damage: {}'.format(base_def - trim_acc))"
   ]
  },
  {
   "cell_type": "code",
   "execution_count": null,
   "metadata": {},
   "outputs": [],
   "source": []
  }
 ],
 "metadata": {
  "kernelspec": {
   "display_name": "Python 3",
   "language": "python",
   "name": "python3"
  },
  "language_info": {
   "codemirror_mode": {
    "name": "ipython",
    "version": 3
   },
   "file_extension": ".py",
   "mimetype": "text/x-python",
   "name": "python",
   "nbconvert_exporter": "python",
   "pygments_lexer": "ipython3",
   "version": "3.7.5"
  }
 },
 "nbformat": 4,
 "nbformat_minor": 4
}
